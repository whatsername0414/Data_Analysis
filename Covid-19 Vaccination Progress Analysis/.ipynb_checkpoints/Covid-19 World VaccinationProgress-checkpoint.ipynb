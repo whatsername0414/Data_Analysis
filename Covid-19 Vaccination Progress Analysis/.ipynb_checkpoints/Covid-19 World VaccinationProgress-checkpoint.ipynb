{
 "cells": [
  {
   "cell_type": "markdown",
   "metadata": {},
   "source": [
    "<h2>Track the progress of COVID-19 vaccination"
   ]
  },
  {
   "cell_type": "markdown",
   "metadata": {},
   "source": [
    "* What vaccines are used and in which countries?\n",
    "* What country is vaccinated more people?\n",
    "* What country is vaccinated a larger percent from its population?"
   ]
  },
  {
   "cell_type": "code",
   "execution_count": 1,
   "metadata": {},
   "outputs": [],
   "source": [
    "import pandas as pd\n",
    "import matplotlib.pyplot as plt\n",
    "import numpy as np"
   ]
  },
  {
   "cell_type": "code",
   "execution_count": 2,
   "metadata": {},
   "outputs": [],
   "source": [
    "import seaborn as sns"
   ]
  },
  {
   "cell_type": "code",
   "execution_count": 3,
   "metadata": {},
   "outputs": [],
   "source": [
    "country_vaccinations_df = pd.read_csv('country_vaccinations.csv')"
   ]
  },
  {
   "cell_type": "code",
   "execution_count": 4,
   "metadata": {},
   "outputs": [
    {
     "data": {
      "text/plain": [
       "Index(['country', 'iso_code', 'date', 'total_vaccinations',\n",
       "       'people_vaccinated', 'people_fully_vaccinated',\n",
       "       'daily_vaccinations_raw', 'daily_vaccinations',\n",
       "       'total_vaccinations_per_hundred', 'people_vaccinated_per_hundred',\n",
       "       'people_fully_vaccinated_per_hundred', 'daily_vaccinations_per_million',\n",
       "       'vaccines', 'source_name', 'source_website'],\n",
       "      dtype='object')"
      ]
     },
     "execution_count": 4,
     "metadata": {},
     "output_type": "execute_result"
    }
   ],
   "source": [
    "country_vaccinations_df.columns"
   ]
  },
  {
   "cell_type": "code",
   "execution_count": 5,
   "metadata": {},
   "outputs": [
    {
     "name": "stdout",
     "output_type": "stream",
     "text": [
      "<class 'pandas.core.frame.DataFrame'>\n",
      "RangeIndex: 9576 entries, 0 to 9575\n",
      "Data columns (total 15 columns):\n",
      " #   Column                               Non-Null Count  Dtype  \n",
      "---  ------                               --------------  -----  \n",
      " 0   country                              9576 non-null   object \n",
      " 1   iso_code                             9576 non-null   object \n",
      " 2   date                                 9576 non-null   object \n",
      " 3   total_vaccinations                   5772 non-null   float64\n",
      " 4   people_vaccinated                    5167 non-null   float64\n",
      " 5   people_fully_vaccinated              3608 non-null   float64\n",
      " 6   daily_vaccinations_raw               4816 non-null   float64\n",
      " 7   daily_vaccinations                   9393 non-null   float64\n",
      " 8   total_vaccinations_per_hundred       5772 non-null   float64\n",
      " 9   people_vaccinated_per_hundred        5167 non-null   float64\n",
      " 10  people_fully_vaccinated_per_hundred  3608 non-null   float64\n",
      " 11  daily_vaccinations_per_million       9393 non-null   float64\n",
      " 12  vaccines                             9576 non-null   object \n",
      " 13  source_name                          9576 non-null   object \n",
      " 14  source_website                       9576 non-null   object \n",
      "dtypes: float64(9), object(6)\n",
      "memory usage: 1.1+ MB\n"
     ]
    }
   ],
   "source": [
    "country_vaccinations_df.info()"
   ]
  },
  {
   "cell_type": "code",
   "execution_count": 6,
   "metadata": {},
   "outputs": [],
   "source": [
    "country_vaccinations_df['date'] = pd.to_datetime(country_vaccinations_df.date)\n",
    "country_vaccinations_df = country_vaccinations_df.replace([np.inf, -np.inf], np.nan)\n",
    "country_vaccinations_df = country_vaccinations_df.fillna(0)"
   ]
  },
  {
   "cell_type": "code",
   "execution_count": 7,
   "metadata": {},
   "outputs": [
    {
     "data": {
      "text/plain": [
       "(9576, 15)"
      ]
     },
     "execution_count": 7,
     "metadata": {},
     "output_type": "execute_result"
    }
   ],
   "source": [
    "country_vaccinations_df.shape"
   ]
  },
  {
   "cell_type": "code",
   "execution_count": 8,
   "metadata": {},
   "outputs": [
    {
     "data": {
      "text/html": [
       "<div>\n",
       "<style scoped>\n",
       "    .dataframe tbody tr th:only-of-type {\n",
       "        vertical-align: middle;\n",
       "    }\n",
       "\n",
       "    .dataframe tbody tr th {\n",
       "        vertical-align: top;\n",
       "    }\n",
       "\n",
       "    .dataframe thead th {\n",
       "        text-align: right;\n",
       "    }\n",
       "</style>\n",
       "<table border=\"1\" class=\"dataframe\">\n",
       "  <thead>\n",
       "    <tr style=\"text-align: right;\">\n",
       "      <th></th>\n",
       "      <th>total_vaccinations</th>\n",
       "      <th>people_vaccinated</th>\n",
       "      <th>people_fully_vaccinated</th>\n",
       "      <th>daily_vaccinations_raw</th>\n",
       "      <th>daily_vaccinations</th>\n",
       "      <th>total_vaccinations_per_hundred</th>\n",
       "      <th>people_vaccinated_per_hundred</th>\n",
       "      <th>people_fully_vaccinated_per_hundred</th>\n",
       "      <th>daily_vaccinations_per_million</th>\n",
       "    </tr>\n",
       "  </thead>\n",
       "  <tbody>\n",
       "    <tr>\n",
       "      <th>count</th>\n",
       "      <td>9.576000e+03</td>\n",
       "      <td>9.576000e+03</td>\n",
       "      <td>9.576000e+03</td>\n",
       "      <td>9.576000e+03</td>\n",
       "      <td>9.576000e+03</td>\n",
       "      <td>9576.000000</td>\n",
       "      <td>9576.000000</td>\n",
       "      <td>9576.000000</td>\n",
       "      <td>9576.000000</td>\n",
       "    </tr>\n",
       "    <tr>\n",
       "      <th>mean</th>\n",
       "      <td>1.942940e+06</td>\n",
       "      <td>1.298500e+06</td>\n",
       "      <td>4.056506e+05</td>\n",
       "      <td>5.609628e+04</td>\n",
       "      <td>6.577066e+04</td>\n",
       "      <td>6.923449</td>\n",
       "      <td>4.608278</td>\n",
       "      <td>1.571713</td>\n",
       "      <td>2781.286967</td>\n",
       "    </tr>\n",
       "    <tr>\n",
       "      <th>std</th>\n",
       "      <td>9.434635e+06</td>\n",
       "      <td>6.085336e+06</td>\n",
       "      <td>2.725952e+06</td>\n",
       "      <td>2.909601e+05</td>\n",
       "      <td>2.621674e+05</td>\n",
       "      <td>16.286891</td>\n",
       "      <td>10.490747</td>\n",
       "      <td>5.747330</td>\n",
       "      <td>4962.102087</td>\n",
       "    </tr>\n",
       "    <tr>\n",
       "      <th>min</th>\n",
       "      <td>0.000000e+00</td>\n",
       "      <td>0.000000e+00</td>\n",
       "      <td>0.000000e+00</td>\n",
       "      <td>0.000000e+00</td>\n",
       "      <td>0.000000e+00</td>\n",
       "      <td>0.000000</td>\n",
       "      <td>0.000000</td>\n",
       "      <td>0.000000</td>\n",
       "      <td>0.000000</td>\n",
       "    </tr>\n",
       "    <tr>\n",
       "      <th>25%</th>\n",
       "      <td>0.000000e+00</td>\n",
       "      <td>0.000000e+00</td>\n",
       "      <td>0.000000e+00</td>\n",
       "      <td>0.000000e+00</td>\n",
       "      <td>8.950000e+02</td>\n",
       "      <td>0.000000</td>\n",
       "      <td>0.000000</td>\n",
       "      <td>0.000000</td>\n",
       "      <td>326.000000</td>\n",
       "    </tr>\n",
       "    <tr>\n",
       "      <th>50%</th>\n",
       "      <td>2.233400e+04</td>\n",
       "      <td>5.850000e+03</td>\n",
       "      <td>0.000000e+00</td>\n",
       "      <td>0.000000e+00</td>\n",
       "      <td>5.578000e+03</td>\n",
       "      <td>0.380000</td>\n",
       "      <td>0.060000</td>\n",
       "      <td>0.000000</td>\n",
       "      <td>1356.000000</td>\n",
       "    </tr>\n",
       "    <tr>\n",
       "      <th>75%</th>\n",
       "      <td>5.290835e+05</td>\n",
       "      <td>3.308312e+05</td>\n",
       "      <td>4.199850e+04</td>\n",
       "      <td>1.470000e+04</td>\n",
       "      <td>2.733600e+04</td>\n",
       "      <td>6.282500</td>\n",
       "      <td>4.060000</td>\n",
       "      <td>0.780000</td>\n",
       "      <td>3413.250000</td>\n",
       "    </tr>\n",
       "    <tr>\n",
       "      <th>max</th>\n",
       "      <td>1.616884e+08</td>\n",
       "      <td>1.042135e+08</td>\n",
       "      <td>5.985815e+07</td>\n",
       "      <td>7.185000e+06</td>\n",
       "      <td>5.190143e+06</td>\n",
       "      <td>180.780000</td>\n",
       "      <td>95.850000</td>\n",
       "      <td>84.930000</td>\n",
       "      <td>118759.000000</td>\n",
       "    </tr>\n",
       "  </tbody>\n",
       "</table>\n",
       "</div>"
      ],
      "text/plain": [
       "       total_vaccinations  people_vaccinated  people_fully_vaccinated  \\\n",
       "count        9.576000e+03       9.576000e+03             9.576000e+03   \n",
       "mean         1.942940e+06       1.298500e+06             4.056506e+05   \n",
       "std          9.434635e+06       6.085336e+06             2.725952e+06   \n",
       "min          0.000000e+00       0.000000e+00             0.000000e+00   \n",
       "25%          0.000000e+00       0.000000e+00             0.000000e+00   \n",
       "50%          2.233400e+04       5.850000e+03             0.000000e+00   \n",
       "75%          5.290835e+05       3.308312e+05             4.199850e+04   \n",
       "max          1.616884e+08       1.042135e+08             5.985815e+07   \n",
       "\n",
       "       daily_vaccinations_raw  daily_vaccinations  \\\n",
       "count            9.576000e+03        9.576000e+03   \n",
       "mean             5.609628e+04        6.577066e+04   \n",
       "std              2.909601e+05        2.621674e+05   \n",
       "min              0.000000e+00        0.000000e+00   \n",
       "25%              0.000000e+00        8.950000e+02   \n",
       "50%              0.000000e+00        5.578000e+03   \n",
       "75%              1.470000e+04        2.733600e+04   \n",
       "max              7.185000e+06        5.190143e+06   \n",
       "\n",
       "       total_vaccinations_per_hundred  people_vaccinated_per_hundred  \\\n",
       "count                     9576.000000                    9576.000000   \n",
       "mean                         6.923449                       4.608278   \n",
       "std                         16.286891                      10.490747   \n",
       "min                          0.000000                       0.000000   \n",
       "25%                          0.000000                       0.000000   \n",
       "50%                          0.380000                       0.060000   \n",
       "75%                          6.282500                       4.060000   \n",
       "max                        180.780000                      95.850000   \n",
       "\n",
       "       people_fully_vaccinated_per_hundred  daily_vaccinations_per_million  \n",
       "count                          9576.000000                     9576.000000  \n",
       "mean                              1.571713                     2781.286967  \n",
       "std                               5.747330                     4962.102087  \n",
       "min                               0.000000                        0.000000  \n",
       "25%                               0.000000                      326.000000  \n",
       "50%                               0.000000                     1356.000000  \n",
       "75%                               0.780000                     3413.250000  \n",
       "max                              84.930000                   118759.000000  "
      ]
     },
     "execution_count": 8,
     "metadata": {},
     "output_type": "execute_result"
    }
   ],
   "source": [
    "country_vaccinations_df.describe()"
   ]
  },
  {
   "cell_type": "markdown",
   "metadata": {},
   "source": [
    "## What vaccines are used and in which countries?"
   ]
  },
  {
   "cell_type": "code",
   "execution_count": 9,
   "metadata": {},
   "outputs": [],
   "source": [
    "select_column = ['country',\n",
    "                  'date','vaccines',\n",
    "                  'total_vaccinations',\n",
    "                  'people_vaccinated',\n",
    "                  'people_fully_vaccinated',\n",
    "                  'daily_vaccinations_raw',\n",
    "                  'daily_vaccinations',\n",
    "                  'total_vaccinations_per_hundred',\n",
    "                  'people_vaccinated_per_hundred',\n",
    "                  'people_fully_vaccinated_per_hundred',\n",
    "                  'daily_vaccinations_per_million']"
   ]
  },
  {
   "cell_type": "markdown",
   "metadata": {},
   "source": [
    "#### Pfizer/BioNTech"
   ]
  },
  {
   "cell_type": "code",
   "execution_count": 10,
   "metadata": {},
   "outputs": [],
   "source": [
    "pfizer_bioNTech_vaccine = country_vaccinations_df[country_vaccinations_df[\"vaccines\"]==\"Pfizer/BioNTech\"][select_column].sort_values(by=\"total_vaccinations\")"
   ]
  },
  {
   "cell_type": "code",
   "execution_count": 11,
   "metadata": {},
   "outputs": [
    {
     "data": {
      "text/html": [
       "<style  type=\"text/css\" >\n",
       "#T_475778b6_9753_11eb_bba8_33a628e946e1row0_col3,#T_475778b6_9753_11eb_bba8_33a628e946e1row0_col4,#T_475778b6_9753_11eb_bba8_33a628e946e1row0_col5,#T_475778b6_9753_11eb_bba8_33a628e946e1row0_col6,#T_475778b6_9753_11eb_bba8_33a628e946e1row0_col8,#T_475778b6_9753_11eb_bba8_33a628e946e1row0_col9,#T_475778b6_9753_11eb_bba8_33a628e946e1row0_col10,#T_475778b6_9753_11eb_bba8_33a628e946e1row0_col11,#T_475778b6_9753_11eb_bba8_33a628e946e1row1_col4,#T_475778b6_9753_11eb_bba8_33a628e946e1row1_col5,#T_475778b6_9753_11eb_bba8_33a628e946e1row1_col6,#T_475778b6_9753_11eb_bba8_33a628e946e1row1_col7,#T_475778b6_9753_11eb_bba8_33a628e946e1row1_col8,#T_475778b6_9753_11eb_bba8_33a628e946e1row1_col9,#T_475778b6_9753_11eb_bba8_33a628e946e1row1_col10,#T_475778b6_9753_11eb_bba8_33a628e946e1row1_col11,#T_475778b6_9753_11eb_bba8_33a628e946e1row3_col3,#T_475778b6_9753_11eb_bba8_33a628e946e1row3_col4,#T_475778b6_9753_11eb_bba8_33a628e946e1row3_col5,#T_475778b6_9753_11eb_bba8_33a628e946e1row3_col6,#T_475778b6_9753_11eb_bba8_33a628e946e1row3_col8,#T_475778b6_9753_11eb_bba8_33a628e946e1row3_col9,#T_475778b6_9753_11eb_bba8_33a628e946e1row3_col10,#T_475778b6_9753_11eb_bba8_33a628e946e1row4_col3,#T_475778b6_9753_11eb_bba8_33a628e946e1row4_col4,#T_475778b6_9753_11eb_bba8_33a628e946e1row4_col5,#T_475778b6_9753_11eb_bba8_33a628e946e1row4_col6,#T_475778b6_9753_11eb_bba8_33a628e946e1row4_col8,#T_475778b6_9753_11eb_bba8_33a628e946e1row4_col9,#T_475778b6_9753_11eb_bba8_33a628e946e1row4_col10,#T_475778b6_9753_11eb_bba8_33a628e946e1row5_col3,#T_475778b6_9753_11eb_bba8_33a628e946e1row5_col4,#T_475778b6_9753_11eb_bba8_33a628e946e1row5_col5,#T_475778b6_9753_11eb_bba8_33a628e946e1row5_col6,#T_475778b6_9753_11eb_bba8_33a628e946e1row5_col8,#T_475778b6_9753_11eb_bba8_33a628e946e1row5_col9,#T_475778b6_9753_11eb_bba8_33a628e946e1row5_col10,#T_475778b6_9753_11eb_bba8_33a628e946e1row6_col3,#T_475778b6_9753_11eb_bba8_33a628e946e1row6_col4,#T_475778b6_9753_11eb_bba8_33a628e946e1row6_col5,#T_475778b6_9753_11eb_bba8_33a628e946e1row6_col6,#T_475778b6_9753_11eb_bba8_33a628e946e1row6_col8,#T_475778b6_9753_11eb_bba8_33a628e946e1row6_col9,#T_475778b6_9753_11eb_bba8_33a628e946e1row6_col10,#T_475778b6_9753_11eb_bba8_33a628e946e1row7_col3,#T_475778b6_9753_11eb_bba8_33a628e946e1row7_col4,#T_475778b6_9753_11eb_bba8_33a628e946e1row7_col5,#T_475778b6_9753_11eb_bba8_33a628e946e1row7_col6,#T_475778b6_9753_11eb_bba8_33a628e946e1row7_col8,#T_475778b6_9753_11eb_bba8_33a628e946e1row7_col9,#T_475778b6_9753_11eb_bba8_33a628e946e1row7_col10,#T_475778b6_9753_11eb_bba8_33a628e946e1row8_col3,#T_475778b6_9753_11eb_bba8_33a628e946e1row8_col4,#T_475778b6_9753_11eb_bba8_33a628e946e1row8_col5,#T_475778b6_9753_11eb_bba8_33a628e946e1row8_col6,#T_475778b6_9753_11eb_bba8_33a628e946e1row8_col8,#T_475778b6_9753_11eb_bba8_33a628e946e1row8_col9,#T_475778b6_9753_11eb_bba8_33a628e946e1row8_col10,#T_475778b6_9753_11eb_bba8_33a628e946e1row9_col4,#T_475778b6_9753_11eb_bba8_33a628e946e1row9_col5,#T_475778b6_9753_11eb_bba8_33a628e946e1row9_col9,#T_475778b6_9753_11eb_bba8_33a628e946e1row9_col10{\n",
       "            background-color:  #ffffff;\n",
       "            color:  #000000;\n",
       "        }#T_475778b6_9753_11eb_bba8_33a628e946e1row0_col7{\n",
       "            background-color:  #fcfcef;\n",
       "            color:  #000000;\n",
       "        }#T_475778b6_9753_11eb_bba8_33a628e946e1row1_col3{\n",
       "            background-color:  #e6bb18;\n",
       "            color:  #000000;\n",
       "        }#T_475778b6_9753_11eb_bba8_33a628e946e1row2_col3{\n",
       "            background-color:  #5b29b3;\n",
       "            color:  #f1f1f1;\n",
       "        }#T_475778b6_9753_11eb_bba8_33a628e946e1row2_col4,#T_475778b6_9753_11eb_bba8_33a628e946e1row2_col5,#T_475778b6_9753_11eb_bba8_33a628e946e1row2_col8,#T_475778b6_9753_11eb_bba8_33a628e946e1row2_col9,#T_475778b6_9753_11eb_bba8_33a628e946e1row2_col10,#T_475778b6_9753_11eb_bba8_33a628e946e1row2_col11,#T_475778b6_9753_11eb_bba8_33a628e946e1row8_col7,#T_475778b6_9753_11eb_bba8_33a628e946e1row9_col3,#T_475778b6_9753_11eb_bba8_33a628e946e1row9_col6{\n",
       "            background-color:  #000000;\n",
       "            color:  #f1f1f1;\n",
       "        }#T_475778b6_9753_11eb_bba8_33a628e946e1row2_col6{\n",
       "            background-color:  #6c2ca5;\n",
       "            color:  #f1f1f1;\n",
       "        }#T_475778b6_9753_11eb_bba8_33a628e946e1row2_col7{\n",
       "            background-color:  #ecec9f;\n",
       "            color:  #000000;\n",
       "        }#T_475778b6_9753_11eb_bba8_33a628e946e1row3_col7{\n",
       "            background-color:  #f9f9e3;\n",
       "            color:  #000000;\n",
       "        }#T_475778b6_9753_11eb_bba8_33a628e946e1row3_col11{\n",
       "            background-color:  #e6a50f;\n",
       "            color:  #000000;\n",
       "        }#T_475778b6_9753_11eb_bba8_33a628e946e1row4_col7{\n",
       "            background-color:  #f5f5cf;\n",
       "            color:  #000000;\n",
       "        }#T_475778b6_9753_11eb_bba8_33a628e946e1row4_col11{\n",
       "            background-color:  #e6b515;\n",
       "            color:  #000000;\n",
       "        }#T_475778b6_9753_11eb_bba8_33a628e946e1row5_col7{\n",
       "            background-color:  #ededa7;\n",
       "            color:  #000000;\n",
       "        }#T_475778b6_9753_11eb_bba8_33a628e946e1row5_col11{\n",
       "            background-color:  #101034;\n",
       "            color:  #f1f1f1;\n",
       "        }#T_475778b6_9753_11eb_bba8_33a628e946e1row6_col7,#T_475778b6_9753_11eb_bba8_33a628e946e1row9_col11{\n",
       "            background-color:  #fbfbeb;\n",
       "            color:  #000000;\n",
       "        }#T_475778b6_9753_11eb_bba8_33a628e946e1row6_col11{\n",
       "            background-color:  #e6e172;\n",
       "            color:  #000000;\n",
       "        }#T_475778b6_9753_11eb_bba8_33a628e946e1row7_col7{\n",
       "            background-color:  #fdfdf3;\n",
       "            color:  #000000;\n",
       "        }#T_475778b6_9753_11eb_bba8_33a628e946e1row7_col11{\n",
       "            background-color:  #e6d85c;\n",
       "            color:  #000000;\n",
       "        }#T_475778b6_9753_11eb_bba8_33a628e946e1row8_col11{\n",
       "            background-color:  #f2f2bf;\n",
       "            color:  #000000;\n",
       "        }#T_475778b6_9753_11eb_bba8_33a628e946e1row9_col7{\n",
       "            background-color:  #f55917;\n",
       "            color:  #000000;\n",
       "        }#T_475778b6_9753_11eb_bba8_33a628e946e1row9_col8{\n",
       "            background-color:  #fefefb;\n",
       "            color:  #000000;\n",
       "        }</style><table id=\"T_475778b6_9753_11eb_bba8_33a628e946e1\" ><thead>    <tr>        <th class=\"blank level0\" ></th>        <th class=\"col_heading level0 col0\" >country</th>        <th class=\"col_heading level0 col1\" >date</th>        <th class=\"col_heading level0 col2\" >vaccines</th>        <th class=\"col_heading level0 col3\" >total_vaccinations</th>        <th class=\"col_heading level0 col4\" >people_vaccinated</th>        <th class=\"col_heading level0 col5\" >people_fully_vaccinated</th>        <th class=\"col_heading level0 col6\" >daily_vaccinations_raw</th>        <th class=\"col_heading level0 col7\" >daily_vaccinations</th>        <th class=\"col_heading level0 col8\" >total_vaccinations_per_hundred</th>        <th class=\"col_heading level0 col9\" >people_vaccinated_per_hundred</th>        <th class=\"col_heading level0 col10\" >people_fully_vaccinated_per_hundred</th>        <th class=\"col_heading level0 col11\" >daily_vaccinations_per_million</th>    </tr></thead><tbody>\n",
       "                <tr>\n",
       "                        <th id=\"T_475778b6_9753_11eb_bba8_33a628e946e1level0_row0\" class=\"row_heading level0 row0\" >6234</th>\n",
       "                        <td id=\"T_475778b6_9753_11eb_bba8_33a628e946e1row0_col0\" class=\"data row0 col0\" >North Macedonia</td>\n",
       "                        <td id=\"T_475778b6_9753_11eb_bba8_33a628e946e1row0_col1\" class=\"data row0 col1\" >2021-02-21 00:00:00</td>\n",
       "                        <td id=\"T_475778b6_9753_11eb_bba8_33a628e946e1row0_col2\" class=\"data row0 col2\" >Pfizer/BioNTech</td>\n",
       "                        <td id=\"T_475778b6_9753_11eb_bba8_33a628e946e1row0_col3\" class=\"data row0 col3\" >0.000000</td>\n",
       "                        <td id=\"T_475778b6_9753_11eb_bba8_33a628e946e1row0_col4\" class=\"data row0 col4\" >0.000000</td>\n",
       "                        <td id=\"T_475778b6_9753_11eb_bba8_33a628e946e1row0_col5\" class=\"data row0 col5\" >0.000000</td>\n",
       "                        <td id=\"T_475778b6_9753_11eb_bba8_33a628e946e1row0_col6\" class=\"data row0 col6\" >0.000000</td>\n",
       "                        <td id=\"T_475778b6_9753_11eb_bba8_33a628e946e1row0_col7\" class=\"data row0 col7\" >189.000000</td>\n",
       "                        <td id=\"T_475778b6_9753_11eb_bba8_33a628e946e1row0_col8\" class=\"data row0 col8\" >0.000000</td>\n",
       "                        <td id=\"T_475778b6_9753_11eb_bba8_33a628e946e1row0_col9\" class=\"data row0 col9\" >0.000000</td>\n",
       "                        <td id=\"T_475778b6_9753_11eb_bba8_33a628e946e1row0_col10\" class=\"data row0 col10\" >0.000000</td>\n",
       "                        <td id=\"T_475778b6_9753_11eb_bba8_33a628e946e1row0_col11\" class=\"data row0 col11\" >91.000000</td>\n",
       "            </tr>\n",
       "            <tr>\n",
       "                        <th id=\"T_475778b6_9753_11eb_bba8_33a628e946e1level0_row1\" class=\"row_heading level0 row1\" >6732</th>\n",
       "                        <td id=\"T_475778b6_9753_11eb_bba8_33a628e946e1row1_col0\" class=\"data row1 col0\" >Panama</td>\n",
       "                        <td id=\"T_475778b6_9753_11eb_bba8_33a628e946e1row1_col1\" class=\"data row1 col1\" >2021-02-09 00:00:00</td>\n",
       "                        <td id=\"T_475778b6_9753_11eb_bba8_33a628e946e1row1_col2\" class=\"data row1 col2\" >Pfizer/BioNTech</td>\n",
       "                        <td id=\"T_475778b6_9753_11eb_bba8_33a628e946e1row1_col3\" class=\"data row1 col3\" >12441.000000</td>\n",
       "                        <td id=\"T_475778b6_9753_11eb_bba8_33a628e946e1row1_col4\" class=\"data row1 col4\" >0.000000</td>\n",
       "                        <td id=\"T_475778b6_9753_11eb_bba8_33a628e946e1row1_col5\" class=\"data row1 col5\" >0.000000</td>\n",
       "                        <td id=\"T_475778b6_9753_11eb_bba8_33a628e946e1row1_col6\" class=\"data row1 col6\" >0.000000</td>\n",
       "                        <td id=\"T_475778b6_9753_11eb_bba8_33a628e946e1row1_col7\" class=\"data row1 col7\" >61.000000</td>\n",
       "                        <td id=\"T_475778b6_9753_11eb_bba8_33a628e946e1row1_col8\" class=\"data row1 col8\" >0.290000</td>\n",
       "                        <td id=\"T_475778b6_9753_11eb_bba8_33a628e946e1row1_col9\" class=\"data row1 col9\" >0.000000</td>\n",
       "                        <td id=\"T_475778b6_9753_11eb_bba8_33a628e946e1row1_col10\" class=\"data row1 col10\" >0.000000</td>\n",
       "                        <td id=\"T_475778b6_9753_11eb_bba8_33a628e946e1row1_col11\" class=\"data row1 col11\" >14.000000</td>\n",
       "            </tr>\n",
       "            <tr>\n",
       "                        <th id=\"T_475778b6_9753_11eb_bba8_33a628e946e1level0_row2\" class=\"row_heading level0 row2\" >3329</th>\n",
       "                        <td id=\"T_475778b6_9753_11eb_bba8_33a628e946e1row2_col0\" class=\"data row2 col0\" >Gibraltar</td>\n",
       "                        <td id=\"T_475778b6_9753_11eb_bba8_33a628e946e1row2_col1\" class=\"data row2 col1\" >2021-02-25 00:00:00</td>\n",
       "                        <td id=\"T_475778b6_9753_11eb_bba8_33a628e946e1row2_col2\" class=\"data row2 col2\" >Pfizer/BioNTech</td>\n",
       "                        <td id=\"T_475778b6_9753_11eb_bba8_33a628e946e1row2_col3\" class=\"data row2 col3\" >34600.000000</td>\n",
       "                        <td id=\"T_475778b6_9753_11eb_bba8_33a628e946e1row2_col4\" class=\"data row2 col4\" >21591.000000</td>\n",
       "                        <td id=\"T_475778b6_9753_11eb_bba8_33a628e946e1row2_col5\" class=\"data row2 col5\" >13009.000000</td>\n",
       "                        <td id=\"T_475778b6_9753_11eb_bba8_33a628e946e1row2_col6\" class=\"data row2 col6\" >1229.000000</td>\n",
       "                        <td id=\"T_475778b6_9753_11eb_bba8_33a628e946e1row2_col7\" class=\"data row2 col7\" >832.000000</td>\n",
       "                        <td id=\"T_475778b6_9753_11eb_bba8_33a628e946e1row2_col8\" class=\"data row2 col8\" >102.700000</td>\n",
       "                        <td id=\"T_475778b6_9753_11eb_bba8_33a628e946e1row2_col9\" class=\"data row2 col9\" >64.090000</td>\n",
       "                        <td id=\"T_475778b6_9753_11eb_bba8_33a628e946e1row2_col10\" class=\"data row2 col10\" >38.610000</td>\n",
       "                        <td id=\"T_475778b6_9753_11eb_bba8_33a628e946e1row2_col11\" class=\"data row2 col11\" >24695.000000</td>\n",
       "            </tr>\n",
       "            <tr>\n",
       "                        <th id=\"T_475778b6_9753_11eb_bba8_33a628e946e1level0_row3\" class=\"row_heading level0 row3\" >5791</th>\n",
       "                        <td id=\"T_475778b6_9753_11eb_bba8_33a628e946e1row3_col0\" class=\"data row3 col0\" >Monaco</td>\n",
       "                        <td id=\"T_475778b6_9753_11eb_bba8_33a628e946e1row3_col1\" class=\"data row3 col1\" >2021-02-26 00:00:00</td>\n",
       "                        <td id=\"T_475778b6_9753_11eb_bba8_33a628e946e1row3_col2\" class=\"data row3 col2\" >Pfizer/BioNTech</td>\n",
       "                        <td id=\"T_475778b6_9753_11eb_bba8_33a628e946e1row3_col3\" class=\"data row3 col3\" >0.000000</td>\n",
       "                        <td id=\"T_475778b6_9753_11eb_bba8_33a628e946e1row3_col4\" class=\"data row3 col4\" >0.000000</td>\n",
       "                        <td id=\"T_475778b6_9753_11eb_bba8_33a628e946e1row3_col5\" class=\"data row3 col5\" >0.000000</td>\n",
       "                        <td id=\"T_475778b6_9753_11eb_bba8_33a628e946e1row3_col6\" class=\"data row3 col6\" >0.000000</td>\n",
       "                        <td id=\"T_475778b6_9753_11eb_bba8_33a628e946e1row3_col7\" class=\"data row3 col7\" >294.000000</td>\n",
       "                        <td id=\"T_475778b6_9753_11eb_bba8_33a628e946e1row3_col8\" class=\"data row3 col8\" >0.000000</td>\n",
       "                        <td id=\"T_475778b6_9753_11eb_bba8_33a628e946e1row3_col9\" class=\"data row3 col9\" >0.000000</td>\n",
       "                        <td id=\"T_475778b6_9753_11eb_bba8_33a628e946e1row3_col10\" class=\"data row3 col10\" >0.000000</td>\n",
       "                        <td id=\"T_475778b6_9753_11eb_bba8_33a628e946e1row3_col11\" class=\"data row3 col11\" >7492.000000</td>\n",
       "            </tr>\n",
       "            <tr>\n",
       "                        <th id=\"T_475778b6_9753_11eb_bba8_33a628e946e1level0_row4\" class=\"row_heading level0 row4\" >1592</th>\n",
       "                        <td id=\"T_475778b6_9753_11eb_bba8_33a628e946e1row4_col0\" class=\"data row4 col0\" >Cayman Islands</td>\n",
       "                        <td id=\"T_475778b6_9753_11eb_bba8_33a628e946e1row4_col1\" class=\"data row4 col1\" >2021-02-22 00:00:00</td>\n",
       "                        <td id=\"T_475778b6_9753_11eb_bba8_33a628e946e1row4_col2\" class=\"data row4 col2\" >Pfizer/BioNTech</td>\n",
       "                        <td id=\"T_475778b6_9753_11eb_bba8_33a628e946e1row4_col3\" class=\"data row4 col3\" >0.000000</td>\n",
       "                        <td id=\"T_475778b6_9753_11eb_bba8_33a628e946e1row4_col4\" class=\"data row4 col4\" >0.000000</td>\n",
       "                        <td id=\"T_475778b6_9753_11eb_bba8_33a628e946e1row4_col5\" class=\"data row4 col5\" >0.000000</td>\n",
       "                        <td id=\"T_475778b6_9753_11eb_bba8_33a628e946e1row4_col6\" class=\"data row4 col6\" >0.000000</td>\n",
       "                        <td id=\"T_475778b6_9753_11eb_bba8_33a628e946e1row4_col7\" class=\"data row4 col7\" >442.000000</td>\n",
       "                        <td id=\"T_475778b6_9753_11eb_bba8_33a628e946e1row4_col8\" class=\"data row4 col8\" >0.000000</td>\n",
       "                        <td id=\"T_475778b6_9753_11eb_bba8_33a628e946e1row4_col9\" class=\"data row4 col9\" >0.000000</td>\n",
       "                        <td id=\"T_475778b6_9753_11eb_bba8_33a628e946e1row4_col10\" class=\"data row4 col10\" >0.000000</td>\n",
       "                        <td id=\"T_475778b6_9753_11eb_bba8_33a628e946e1row4_col11\" class=\"data row4 col11\" >6726.000000</td>\n",
       "            </tr>\n",
       "            <tr>\n",
       "                        <th id=\"T_475778b6_9753_11eb_bba8_33a628e946e1level0_row5\" class=\"row_heading level0 row5\" >3362</th>\n",
       "                        <td id=\"T_475778b6_9753_11eb_bba8_33a628e946e1row5_col0\" class=\"data row5 col0\" >Gibraltar</td>\n",
       "                        <td id=\"T_475778b6_9753_11eb_bba8_33a628e946e1row5_col1\" class=\"data row5 col1\" >2021-03-30 00:00:00</td>\n",
       "                        <td id=\"T_475778b6_9753_11eb_bba8_33a628e946e1row5_col2\" class=\"data row5 col2\" >Pfizer/BioNTech</td>\n",
       "                        <td id=\"T_475778b6_9753_11eb_bba8_33a628e946e1row5_col3\" class=\"data row5 col3\" >0.000000</td>\n",
       "                        <td id=\"T_475778b6_9753_11eb_bba8_33a628e946e1row5_col4\" class=\"data row5 col4\" >0.000000</td>\n",
       "                        <td id=\"T_475778b6_9753_11eb_bba8_33a628e946e1row5_col5\" class=\"data row5 col5\" >0.000000</td>\n",
       "                        <td id=\"T_475778b6_9753_11eb_bba8_33a628e946e1row5_col6\" class=\"data row5 col6\" >0.000000</td>\n",
       "                        <td id=\"T_475778b6_9753_11eb_bba8_33a628e946e1row5_col7\" class=\"data row5 col7\" >788.000000</td>\n",
       "                        <td id=\"T_475778b6_9753_11eb_bba8_33a628e946e1row5_col8\" class=\"data row5 col8\" >0.000000</td>\n",
       "                        <td id=\"T_475778b6_9753_11eb_bba8_33a628e946e1row5_col9\" class=\"data row5 col9\" >0.000000</td>\n",
       "                        <td id=\"T_475778b6_9753_11eb_bba8_33a628e946e1row5_col10\" class=\"data row5 col10\" >0.000000</td>\n",
       "                        <td id=\"T_475778b6_9753_11eb_bba8_33a628e946e1row5_col11\" class=\"data row5 col11\" >23389.000000</td>\n",
       "            </tr>\n",
       "            <tr>\n",
       "                        <th id=\"T_475778b6_9753_11eb_bba8_33a628e946e1level0_row6\" class=\"row_heading level0 row6\" >3633</th>\n",
       "                        <td id=\"T_475778b6_9753_11eb_bba8_33a628e946e1row6_col0\" class=\"data row6 col0\" >Guernsey</td>\n",
       "                        <td id=\"T_475778b6_9753_11eb_bba8_33a628e946e1row6_col1\" class=\"data row6 col1\" >2021-03-22 00:00:00</td>\n",
       "                        <td id=\"T_475778b6_9753_11eb_bba8_33a628e946e1row6_col2\" class=\"data row6 col2\" >Pfizer/BioNTech</td>\n",
       "                        <td id=\"T_475778b6_9753_11eb_bba8_33a628e946e1row6_col3\" class=\"data row6 col3\" >0.000000</td>\n",
       "                        <td id=\"T_475778b6_9753_11eb_bba8_33a628e946e1row6_col4\" class=\"data row6 col4\" >0.000000</td>\n",
       "                        <td id=\"T_475778b6_9753_11eb_bba8_33a628e946e1row6_col5\" class=\"data row6 col5\" >0.000000</td>\n",
       "                        <td id=\"T_475778b6_9753_11eb_bba8_33a628e946e1row6_col6\" class=\"data row6 col6\" >0.000000</td>\n",
       "                        <td id=\"T_475778b6_9753_11eb_bba8_33a628e946e1row6_col7\" class=\"data row6 col7\" >236.000000</td>\n",
       "                        <td id=\"T_475778b6_9753_11eb_bba8_33a628e946e1row6_col8\" class=\"data row6 col8\" >0.000000</td>\n",
       "                        <td id=\"T_475778b6_9753_11eb_bba8_33a628e946e1row6_col9\" class=\"data row6 col9\" >0.000000</td>\n",
       "                        <td id=\"T_475778b6_9753_11eb_bba8_33a628e946e1row6_col10\" class=\"data row6 col10\" >0.000000</td>\n",
       "                        <td id=\"T_475778b6_9753_11eb_bba8_33a628e946e1row6_col11\" class=\"data row6 col11\" >3520.000000</td>\n",
       "            </tr>\n",
       "            <tr>\n",
       "                        <th id=\"T_475778b6_9753_11eb_bba8_33a628e946e1level0_row7\" class=\"row_heading level0 row7\" >5805</th>\n",
       "                        <td id=\"T_475778b6_9753_11eb_bba8_33a628e946e1row7_col0\" class=\"data row7 col0\" >Monaco</td>\n",
       "                        <td id=\"T_475778b6_9753_11eb_bba8_33a628e946e1row7_col1\" class=\"data row7 col1\" >2021-03-12 00:00:00</td>\n",
       "                        <td id=\"T_475778b6_9753_11eb_bba8_33a628e946e1row7_col2\" class=\"data row7 col2\" >Pfizer/BioNTech</td>\n",
       "                        <td id=\"T_475778b6_9753_11eb_bba8_33a628e946e1row7_col3\" class=\"data row7 col3\" >0.000000</td>\n",
       "                        <td id=\"T_475778b6_9753_11eb_bba8_33a628e946e1row7_col4\" class=\"data row7 col4\" >0.000000</td>\n",
       "                        <td id=\"T_475778b6_9753_11eb_bba8_33a628e946e1row7_col5\" class=\"data row7 col5\" >0.000000</td>\n",
       "                        <td id=\"T_475778b6_9753_11eb_bba8_33a628e946e1row7_col6\" class=\"data row7 col6\" >0.000000</td>\n",
       "                        <td id=\"T_475778b6_9753_11eb_bba8_33a628e946e1row7_col7\" class=\"data row7 col7\" >165.000000</td>\n",
       "                        <td id=\"T_475778b6_9753_11eb_bba8_33a628e946e1row7_col8\" class=\"data row7 col8\" >0.000000</td>\n",
       "                        <td id=\"T_475778b6_9753_11eb_bba8_33a628e946e1row7_col9\" class=\"data row7 col9\" >0.000000</td>\n",
       "                        <td id=\"T_475778b6_9753_11eb_bba8_33a628e946e1row7_col10\" class=\"data row7 col10\" >0.000000</td>\n",
       "                        <td id=\"T_475778b6_9753_11eb_bba8_33a628e946e1row7_col11\" class=\"data row7 col11\" >4204.000000</td>\n",
       "            </tr>\n",
       "            <tr>\n",
       "                        <th id=\"T_475778b6_9753_11eb_bba8_33a628e946e1level0_row8\" class=\"row_heading level0 row8\" >1973</th>\n",
       "                        <td id=\"T_475778b6_9753_11eb_bba8_33a628e946e1row8_col0\" class=\"data row8 col0\" >Costa Rica</td>\n",
       "                        <td id=\"T_475778b6_9753_11eb_bba8_33a628e946e1row8_col1\" class=\"data row8 col1\" >2021-03-21 00:00:00</td>\n",
       "                        <td id=\"T_475778b6_9753_11eb_bba8_33a628e946e1row8_col2\" class=\"data row8 col2\" >Pfizer/BioNTech</td>\n",
       "                        <td id=\"T_475778b6_9753_11eb_bba8_33a628e946e1row8_col3\" class=\"data row8 col3\" >0.000000</td>\n",
       "                        <td id=\"T_475778b6_9753_11eb_bba8_33a628e946e1row8_col4\" class=\"data row8 col4\" >0.000000</td>\n",
       "                        <td id=\"T_475778b6_9753_11eb_bba8_33a628e946e1row8_col5\" class=\"data row8 col5\" >0.000000</td>\n",
       "                        <td id=\"T_475778b6_9753_11eb_bba8_33a628e946e1row8_col6\" class=\"data row8 col6\" >0.000000</td>\n",
       "                        <td id=\"T_475778b6_9753_11eb_bba8_33a628e946e1row8_col7\" class=\"data row8 col7\" >8181.000000</td>\n",
       "                        <td id=\"T_475778b6_9753_11eb_bba8_33a628e946e1row8_col8\" class=\"data row8 col8\" >0.000000</td>\n",
       "                        <td id=\"T_475778b6_9753_11eb_bba8_33a628e946e1row8_col9\" class=\"data row8 col9\" >0.000000</td>\n",
       "                        <td id=\"T_475778b6_9753_11eb_bba8_33a628e946e1row8_col10\" class=\"data row8 col10\" >0.000000</td>\n",
       "                        <td id=\"T_475778b6_9753_11eb_bba8_33a628e946e1row8_col11\" class=\"data row8 col11\" >1606.000000</td>\n",
       "            </tr>\n",
       "            <tr>\n",
       "                        <th id=\"T_475778b6_9753_11eb_bba8_33a628e946e1level0_row9\" class=\"row_heading level0 row9\" >5044</th>\n",
       "                        <td id=\"T_475778b6_9753_11eb_bba8_33a628e946e1row9_col0\" class=\"data row9 col0\" >Lebanon</td>\n",
       "                        <td id=\"T_475778b6_9753_11eb_bba8_33a628e946e1row9_col1\" class=\"data row9 col1\" >2021-03-02 00:00:00</td>\n",
       "                        <td id=\"T_475778b6_9753_11eb_bba8_33a628e946e1row9_col2\" class=\"data row9 col2\" >Pfizer/BioNTech</td>\n",
       "                        <td id=\"T_475778b6_9753_11eb_bba8_33a628e946e1row9_col3\" class=\"data row9 col3\" >47625.000000</td>\n",
       "                        <td id=\"T_475778b6_9753_11eb_bba8_33a628e946e1row9_col4\" class=\"data row9 col4\" >0.000000</td>\n",
       "                        <td id=\"T_475778b6_9753_11eb_bba8_33a628e946e1row9_col5\" class=\"data row9 col5\" >0.000000</td>\n",
       "                        <td id=\"T_475778b6_9753_11eb_bba8_33a628e946e1row9_col6\" class=\"data row9 col6\" >1766.000000</td>\n",
       "                        <td id=\"T_475778b6_9753_11eb_bba8_33a628e946e1row9_col7\" class=\"data row9 col7\" >3721.000000</td>\n",
       "                        <td id=\"T_475778b6_9753_11eb_bba8_33a628e946e1row9_col8\" class=\"data row9 col8\" >0.700000</td>\n",
       "                        <td id=\"T_475778b6_9753_11eb_bba8_33a628e946e1row9_col9\" class=\"data row9 col9\" >0.000000</td>\n",
       "                        <td id=\"T_475778b6_9753_11eb_bba8_33a628e946e1row9_col10\" class=\"data row9 col10\" >0.000000</td>\n",
       "                        <td id=\"T_475778b6_9753_11eb_bba8_33a628e946e1row9_col11\" class=\"data row9 col11\" >545.000000</td>\n",
       "            </tr>\n",
       "    </tbody></table>"
      ],
      "text/plain": [
       "<pandas.io.formats.style.Styler at 0x7fe71f3f5ac0>"
      ]
     },
     "execution_count": 11,
     "metadata": {},
     "output_type": "execute_result"
    }
   ],
   "source": [
    "pfizer_bioNTech_vaccine.sample(10).style.background_gradient(cmap=\"CMRmap_r\")"
   ]
  },
  {
   "cell_type": "markdown",
   "metadata": {},
   "source": [
    "#### Sputnik V"
   ]
  },
  {
   "cell_type": "code",
   "execution_count": 12,
   "metadata": {},
   "outputs": [],
   "source": [
    "SputnikV_vaccine = country_vaccinations_df[country_vaccinations_df[\"vaccines\"]==\"Sputnik V\"][select_column].sort_values(by=\"total_vaccinations\")"
   ]
  },
  {
   "cell_type": "code",
   "execution_count": 13,
   "metadata": {},
   "outputs": [
    {
     "data": {
      "text/html": [
       "<style  type=\"text/css\" >\n",
       "#T_477e7754_9753_11eb_bba8_33a628e946e1row0_col3,#T_477e7754_9753_11eb_bba8_33a628e946e1row0_col4,#T_477e7754_9753_11eb_bba8_33a628e946e1row0_col5,#T_477e7754_9753_11eb_bba8_33a628e946e1row0_col6,#T_477e7754_9753_11eb_bba8_33a628e946e1row0_col8,#T_477e7754_9753_11eb_bba8_33a628e946e1row0_col9,#T_477e7754_9753_11eb_bba8_33a628e946e1row0_col10,#T_477e7754_9753_11eb_bba8_33a628e946e1row1_col3,#T_477e7754_9753_11eb_bba8_33a628e946e1row1_col4,#T_477e7754_9753_11eb_bba8_33a628e946e1row1_col5,#T_477e7754_9753_11eb_bba8_33a628e946e1row1_col6,#T_477e7754_9753_11eb_bba8_33a628e946e1row1_col8,#T_477e7754_9753_11eb_bba8_33a628e946e1row1_col9,#T_477e7754_9753_11eb_bba8_33a628e946e1row1_col10,#T_477e7754_9753_11eb_bba8_33a628e946e1row1_col11,#T_477e7754_9753_11eb_bba8_33a628e946e1row2_col5,#T_477e7754_9753_11eb_bba8_33a628e946e1row2_col7,#T_477e7754_9753_11eb_bba8_33a628e946e1row2_col10,#T_477e7754_9753_11eb_bba8_33a628e946e1row3_col3,#T_477e7754_9753_11eb_bba8_33a628e946e1row3_col4,#T_477e7754_9753_11eb_bba8_33a628e946e1row3_col5,#T_477e7754_9753_11eb_bba8_33a628e946e1row3_col6,#T_477e7754_9753_11eb_bba8_33a628e946e1row3_col8,#T_477e7754_9753_11eb_bba8_33a628e946e1row3_col9,#T_477e7754_9753_11eb_bba8_33a628e946e1row3_col10,#T_477e7754_9753_11eb_bba8_33a628e946e1row4_col3,#T_477e7754_9753_11eb_bba8_33a628e946e1row4_col4,#T_477e7754_9753_11eb_bba8_33a628e946e1row4_col5,#T_477e7754_9753_11eb_bba8_33a628e946e1row4_col6,#T_477e7754_9753_11eb_bba8_33a628e946e1row4_col8,#T_477e7754_9753_11eb_bba8_33a628e946e1row4_col9,#T_477e7754_9753_11eb_bba8_33a628e946e1row4_col10,#T_477e7754_9753_11eb_bba8_33a628e946e1row7_col3,#T_477e7754_9753_11eb_bba8_33a628e946e1row7_col4,#T_477e7754_9753_11eb_bba8_33a628e946e1row7_col5,#T_477e7754_9753_11eb_bba8_33a628e946e1row7_col6,#T_477e7754_9753_11eb_bba8_33a628e946e1row7_col7,#T_477e7754_9753_11eb_bba8_33a628e946e1row7_col8,#T_477e7754_9753_11eb_bba8_33a628e946e1row7_col9,#T_477e7754_9753_11eb_bba8_33a628e946e1row7_col10,#T_477e7754_9753_11eb_bba8_33a628e946e1row7_col11,#T_477e7754_9753_11eb_bba8_33a628e946e1row8_col3,#T_477e7754_9753_11eb_bba8_33a628e946e1row8_col4,#T_477e7754_9753_11eb_bba8_33a628e946e1row8_col5,#T_477e7754_9753_11eb_bba8_33a628e946e1row8_col6,#T_477e7754_9753_11eb_bba8_33a628e946e1row8_col8,#T_477e7754_9753_11eb_bba8_33a628e946e1row8_col9,#T_477e7754_9753_11eb_bba8_33a628e946e1row8_col10,#T_477e7754_9753_11eb_bba8_33a628e946e1row8_col11,#T_477e7754_9753_11eb_bba8_33a628e946e1row9_col3,#T_477e7754_9753_11eb_bba8_33a628e946e1row9_col4,#T_477e7754_9753_11eb_bba8_33a628e946e1row9_col5,#T_477e7754_9753_11eb_bba8_33a628e946e1row9_col6,#T_477e7754_9753_11eb_bba8_33a628e946e1row9_col8,#T_477e7754_9753_11eb_bba8_33a628e946e1row9_col9,#T_477e7754_9753_11eb_bba8_33a628e946e1row9_col10,#T_477e7754_9753_11eb_bba8_33a628e946e1row9_col11{\n",
       "            background-color:  #ffffff;\n",
       "            color:  #000000;\n",
       "        }#T_477e7754_9753_11eb_bba8_33a628e946e1row0_col7{\n",
       "            background-color:  #e6bf19;\n",
       "            color:  #000000;\n",
       "        }#T_477e7754_9753_11eb_bba8_33a628e946e1row0_col11{\n",
       "            background-color:  #fefefb;\n",
       "            color:  #000000;\n",
       "        }#T_477e7754_9753_11eb_bba8_33a628e946e1row1_col7,#T_477e7754_9753_11eb_bba8_33a628e946e1row2_col3{\n",
       "            background-color:  #fcfcef;\n",
       "            color:  #000000;\n",
       "        }#T_477e7754_9753_11eb_bba8_33a628e946e1row2_col4{\n",
       "            background-color:  #f9f9e3;\n",
       "            color:  #000000;\n",
       "        }#T_477e7754_9753_11eb_bba8_33a628e946e1row2_col6,#T_477e7754_9753_11eb_bba8_33a628e946e1row9_col7{\n",
       "            background-color:  #e6e47c;\n",
       "            color:  #000000;\n",
       "        }#T_477e7754_9753_11eb_bba8_33a628e946e1row2_col8,#T_477e7754_9753_11eb_bba8_33a628e946e1row2_col9,#T_477e7754_9753_11eb_bba8_33a628e946e1row2_col11,#T_477e7754_9753_11eb_bba8_33a628e946e1row6_col3,#T_477e7754_9753_11eb_bba8_33a628e946e1row6_col4,#T_477e7754_9753_11eb_bba8_33a628e946e1row6_col5,#T_477e7754_9753_11eb_bba8_33a628e946e1row6_col6,#T_477e7754_9753_11eb_bba8_33a628e946e1row6_col7,#T_477e7754_9753_11eb_bba8_33a628e946e1row6_col10{\n",
       "            background-color:  #000000;\n",
       "            color:  #f1f1f1;\n",
       "        }#T_477e7754_9753_11eb_bba8_33a628e946e1row3_col7{\n",
       "            background-color:  #e6e276;\n",
       "            color:  #000000;\n",
       "        }#T_477e7754_9753_11eb_bba8_33a628e946e1row3_col11,#T_477e7754_9753_11eb_bba8_33a628e946e1row4_col11,#T_477e7754_9753_11eb_bba8_33a628e946e1row5_col5,#T_477e7754_9753_11eb_bba8_33a628e946e1row5_col8,#T_477e7754_9753_11eb_bba8_33a628e946e1row5_col9{\n",
       "            background-color:  #fdfdf3;\n",
       "            color:  #000000;\n",
       "        }#T_477e7754_9753_11eb_bba8_33a628e946e1row4_col7{\n",
       "            background-color:  #e6c62c;\n",
       "            color:  #000000;\n",
       "        }#T_477e7754_9753_11eb_bba8_33a628e946e1row5_col3{\n",
       "            background-color:  #f4f4c7;\n",
       "            color:  #000000;\n",
       "        }#T_477e7754_9753_11eb_bba8_33a628e946e1row5_col4{\n",
       "            background-color:  #f0f0b3;\n",
       "            color:  #000000;\n",
       "        }#T_477e7754_9753_11eb_bba8_33a628e946e1row5_col6{\n",
       "            background-color:  #f3f3c3;\n",
       "            color:  #000000;\n",
       "        }#T_477e7754_9753_11eb_bba8_33a628e946e1row5_col7{\n",
       "            background-color:  #f6f6d3;\n",
       "            color:  #000000;\n",
       "        }#T_477e7754_9753_11eb_bba8_33a628e946e1row5_col10{\n",
       "            background-color:  #fafae7;\n",
       "            color:  #000000;\n",
       "        }#T_477e7754_9753_11eb_bba8_33a628e946e1row5_col11{\n",
       "            background-color:  #fdfdf7;\n",
       "            color:  #000000;\n",
       "        }#T_477e7754_9753_11eb_bba8_33a628e946e1row6_col8{\n",
       "            background-color:  #e6dc66;\n",
       "            color:  #000000;\n",
       "        }#T_477e7754_9753_11eb_bba8_33a628e946e1row6_col9{\n",
       "            background-color:  #e9e993;\n",
       "            color:  #000000;\n",
       "        }#T_477e7754_9753_11eb_bba8_33a628e946e1row6_col11{\n",
       "            background-color:  #ededa3;\n",
       "            color:  #000000;\n",
       "        }#T_477e7754_9753_11eb_bba8_33a628e946e1row8_col7{\n",
       "            background-color:  #e6bd18;\n",
       "            color:  #000000;\n",
       "        }</style><table id=\"T_477e7754_9753_11eb_bba8_33a628e946e1\" ><thead>    <tr>        <th class=\"blank level0\" ></th>        <th class=\"col_heading level0 col0\" >country</th>        <th class=\"col_heading level0 col1\" >date</th>        <th class=\"col_heading level0 col2\" >vaccines</th>        <th class=\"col_heading level0 col3\" >total_vaccinations</th>        <th class=\"col_heading level0 col4\" >people_vaccinated</th>        <th class=\"col_heading level0 col5\" >people_fully_vaccinated</th>        <th class=\"col_heading level0 col6\" >daily_vaccinations_raw</th>        <th class=\"col_heading level0 col7\" >daily_vaccinations</th>        <th class=\"col_heading level0 col8\" >total_vaccinations_per_hundred</th>        <th class=\"col_heading level0 col9\" >people_vaccinated_per_hundred</th>        <th class=\"col_heading level0 col10\" >people_fully_vaccinated_per_hundred</th>        <th class=\"col_heading level0 col11\" >daily_vaccinations_per_million</th>    </tr></thead><tbody>\n",
       "                <tr>\n",
       "                        <th id=\"T_477e7754_9753_11eb_bba8_33a628e946e1level0_row0\" class=\"row_heading level0 row0\" >118</th>\n",
       "                        <td id=\"T_477e7754_9753_11eb_bba8_33a628e946e1row0_col0\" class=\"data row0 col0\" >Algeria</td>\n",
       "                        <td id=\"T_477e7754_9753_11eb_bba8_33a628e946e1row0_col1\" class=\"data row0 col1\" >2021-02-10 00:00:00</td>\n",
       "                        <td id=\"T_477e7754_9753_11eb_bba8_33a628e946e1row0_col2\" class=\"data row0 col2\" >Sputnik V</td>\n",
       "                        <td id=\"T_477e7754_9753_11eb_bba8_33a628e946e1row0_col3\" class=\"data row0 col3\" >0.000000</td>\n",
       "                        <td id=\"T_477e7754_9753_11eb_bba8_33a628e946e1row0_col4\" class=\"data row0 col4\" >0.000000</td>\n",
       "                        <td id=\"T_477e7754_9753_11eb_bba8_33a628e946e1row0_col5\" class=\"data row0 col5\" >0.000000</td>\n",
       "                        <td id=\"T_477e7754_9753_11eb_bba8_33a628e946e1row0_col6\" class=\"data row0 col6\" >0.000000</td>\n",
       "                        <td id=\"T_477e7754_9753_11eb_bba8_33a628e946e1row0_col7\" class=\"data row0 col7\" >3748.000000</td>\n",
       "                        <td id=\"T_477e7754_9753_11eb_bba8_33a628e946e1row0_col8\" class=\"data row0 col8\" >0.000000</td>\n",
       "                        <td id=\"T_477e7754_9753_11eb_bba8_33a628e946e1row0_col9\" class=\"data row0 col9\" >0.000000</td>\n",
       "                        <td id=\"T_477e7754_9753_11eb_bba8_33a628e946e1row0_col10\" class=\"data row0 col10\" >0.000000</td>\n",
       "                        <td id=\"T_477e7754_9753_11eb_bba8_33a628e946e1row0_col11\" class=\"data row0 col11\" >85.000000</td>\n",
       "            </tr>\n",
       "            <tr>\n",
       "                        <th id=\"T_477e7754_9753_11eb_bba8_33a628e946e1level0_row1\" class=\"row_heading level0 row1\" >1139</th>\n",
       "                        <td id=\"T_477e7754_9753_11eb_bba8_33a628e946e1row1_col0\" class=\"data row1 col0\" >Bolivia</td>\n",
       "                        <td id=\"T_477e7754_9753_11eb_bba8_33a628e946e1row1_col1\" class=\"data row1 col1\" >2021-02-04 00:00:00</td>\n",
       "                        <td id=\"T_477e7754_9753_11eb_bba8_33a628e946e1row1_col2\" class=\"data row1 col2\" >Sputnik V</td>\n",
       "                        <td id=\"T_477e7754_9753_11eb_bba8_33a628e946e1row1_col3\" class=\"data row1 col3\" >0.000000</td>\n",
       "                        <td id=\"T_477e7754_9753_11eb_bba8_33a628e946e1row1_col4\" class=\"data row1 col4\" >0.000000</td>\n",
       "                        <td id=\"T_477e7754_9753_11eb_bba8_33a628e946e1row1_col5\" class=\"data row1 col5\" >0.000000</td>\n",
       "                        <td id=\"T_477e7754_9753_11eb_bba8_33a628e946e1row1_col6\" class=\"data row1 col6\" >0.000000</td>\n",
       "                        <td id=\"T_477e7754_9753_11eb_bba8_33a628e946e1row1_col7\" class=\"data row1 col7\" >627.000000</td>\n",
       "                        <td id=\"T_477e7754_9753_11eb_bba8_33a628e946e1row1_col8\" class=\"data row1 col8\" >0.000000</td>\n",
       "                        <td id=\"T_477e7754_9753_11eb_bba8_33a628e946e1row1_col9\" class=\"data row1 col9\" >0.000000</td>\n",
       "                        <td id=\"T_477e7754_9753_11eb_bba8_33a628e946e1row1_col10\" class=\"data row1 col10\" >0.000000</td>\n",
       "                        <td id=\"T_477e7754_9753_11eb_bba8_33a628e946e1row1_col11\" class=\"data row1 col11\" >54.000000</td>\n",
       "            </tr>\n",
       "            <tr>\n",
       "                        <th id=\"T_477e7754_9753_11eb_bba8_33a628e946e1level0_row2\" class=\"row_heading level0 row2\" >7539</th>\n",
       "                        <td id=\"T_477e7754_9753_11eb_bba8_33a628e946e1row2_col0\" class=\"data row2 col0\" >San Marino</td>\n",
       "                        <td id=\"T_477e7754_9753_11eb_bba8_33a628e946e1row2_col1\" class=\"data row2 col1\" >2021-03-12 00:00:00</td>\n",
       "                        <td id=\"T_477e7754_9753_11eb_bba8_33a628e946e1row2_col2\" class=\"data row2 col2\" >Sputnik V</td>\n",
       "                        <td id=\"T_477e7754_9753_11eb_bba8_33a628e946e1row2_col3\" class=\"data row2 col3\" >4806.000000</td>\n",
       "                        <td id=\"T_477e7754_9753_11eb_bba8_33a628e946e1row2_col4\" class=\"data row2 col4\" >4806.000000</td>\n",
       "                        <td id=\"T_477e7754_9753_11eb_bba8_33a628e946e1row2_col5\" class=\"data row2 col5\" >0.000000</td>\n",
       "                        <td id=\"T_477e7754_9753_11eb_bba8_33a628e946e1row2_col6\" class=\"data row2 col6\" >522.000000</td>\n",
       "                        <td id=\"T_477e7754_9753_11eb_bba8_33a628e946e1row2_col7\" class=\"data row2 col7\" >418.000000</td>\n",
       "                        <td id=\"T_477e7754_9753_11eb_bba8_33a628e946e1row2_col8\" class=\"data row2 col8\" >14.160000</td>\n",
       "                        <td id=\"T_477e7754_9753_11eb_bba8_33a628e946e1row2_col9\" class=\"data row2 col9\" >14.160000</td>\n",
       "                        <td id=\"T_477e7754_9753_11eb_bba8_33a628e946e1row2_col10\" class=\"data row2 col10\" >0.000000</td>\n",
       "                        <td id=\"T_477e7754_9753_11eb_bba8_33a628e946e1row2_col11\" class=\"data row2 col11\" >12317.000000</td>\n",
       "            </tr>\n",
       "            <tr>\n",
       "                        <th id=\"T_477e7754_9753_11eb_bba8_33a628e946e1level0_row3\" class=\"row_heading level0 row3\" >3644</th>\n",
       "                        <td id=\"T_477e7754_9753_11eb_bba8_33a628e946e1row3_col0\" class=\"data row3 col0\" >Guinea</td>\n",
       "                        <td id=\"T_477e7754_9753_11eb_bba8_33a628e946e1row3_col1\" class=\"data row3 col1\" >2021-03-22 00:00:00</td>\n",
       "                        <td id=\"T_477e7754_9753_11eb_bba8_33a628e946e1row3_col2\" class=\"data row3 col2\" >Sputnik V</td>\n",
       "                        <td id=\"T_477e7754_9753_11eb_bba8_33a628e946e1row3_col3\" class=\"data row3 col3\" >0.000000</td>\n",
       "                        <td id=\"T_477e7754_9753_11eb_bba8_33a628e946e1row3_col4\" class=\"data row3 col4\" >0.000000</td>\n",
       "                        <td id=\"T_477e7754_9753_11eb_bba8_33a628e946e1row3_col5\" class=\"data row3 col5\" >0.000000</td>\n",
       "                        <td id=\"T_477e7754_9753_11eb_bba8_33a628e946e1row3_col6\" class=\"data row3 col6\" >0.000000</td>\n",
       "                        <td id=\"T_477e7754_9753_11eb_bba8_33a628e946e1row3_col7\" class=\"data row3 col7\" >2229.000000</td>\n",
       "                        <td id=\"T_477e7754_9753_11eb_bba8_33a628e946e1row3_col8\" class=\"data row3 col8\" >0.000000</td>\n",
       "                        <td id=\"T_477e7754_9753_11eb_bba8_33a628e946e1row3_col9\" class=\"data row3 col9\" >0.000000</td>\n",
       "                        <td id=\"T_477e7754_9753_11eb_bba8_33a628e946e1row3_col10\" class=\"data row3 col10\" >0.000000</td>\n",
       "                        <td id=\"T_477e7754_9753_11eb_bba8_33a628e946e1row3_col11\" class=\"data row3 col11\" >170.000000</td>\n",
       "            </tr>\n",
       "            <tr>\n",
       "                        <th id=\"T_477e7754_9753_11eb_bba8_33a628e946e1level0_row4\" class=\"row_heading level0 row4\" >4794</th>\n",
       "                        <td id=\"T_477e7754_9753_11eb_bba8_33a628e946e1row4_col0\" class=\"data row4 col0\" >Kazakhstan</td>\n",
       "                        <td id=\"T_477e7754_9753_11eb_bba8_33a628e946e1row4_col1\" class=\"data row4 col1\" >2021-03-07 00:00:00</td>\n",
       "                        <td id=\"T_477e7754_9753_11eb_bba8_33a628e946e1row4_col2\" class=\"data row4 col2\" >Sputnik V</td>\n",
       "                        <td id=\"T_477e7754_9753_11eb_bba8_33a628e946e1row4_col3\" class=\"data row4 col3\" >0.000000</td>\n",
       "                        <td id=\"T_477e7754_9753_11eb_bba8_33a628e946e1row4_col4\" class=\"data row4 col4\" >0.000000</td>\n",
       "                        <td id=\"T_477e7754_9753_11eb_bba8_33a628e946e1row4_col5\" class=\"data row4 col5\" >0.000000</td>\n",
       "                        <td id=\"T_477e7754_9753_11eb_bba8_33a628e946e1row4_col6\" class=\"data row4 col6\" >0.000000</td>\n",
       "                        <td id=\"T_477e7754_9753_11eb_bba8_33a628e946e1row4_col7\" class=\"data row4 col7\" >3453.000000</td>\n",
       "                        <td id=\"T_477e7754_9753_11eb_bba8_33a628e946e1row4_col8\" class=\"data row4 col8\" >0.000000</td>\n",
       "                        <td id=\"T_477e7754_9753_11eb_bba8_33a628e946e1row4_col9\" class=\"data row4 col9\" >0.000000</td>\n",
       "                        <td id=\"T_477e7754_9753_11eb_bba8_33a628e946e1row4_col10\" class=\"data row4 col10\" >0.000000</td>\n",
       "                        <td id=\"T_477e7754_9753_11eb_bba8_33a628e946e1row4_col11\" class=\"data row4 col11\" >184.000000</td>\n",
       "            </tr>\n",
       "            <tr>\n",
       "                        <th id=\"T_477e7754_9753_11eb_bba8_33a628e946e1level0_row5\" class=\"row_heading level0 row5\" >6810</th>\n",
       "                        <td id=\"T_477e7754_9753_11eb_bba8_33a628e946e1row5_col0\" class=\"data row5 col0\" >Paraguay</td>\n",
       "                        <td id=\"T_477e7754_9753_11eb_bba8_33a628e946e1row5_col1\" class=\"data row5 col1\" >2021-03-19 00:00:00</td>\n",
       "                        <td id=\"T_477e7754_9753_11eb_bba8_33a628e946e1row5_col2\" class=\"data row5 col2\" >Sputnik V</td>\n",
       "                        <td id=\"T_477e7754_9753_11eb_bba8_33a628e946e1row5_col3\" class=\"data row5 col3\" >14707.000000</td>\n",
       "                        <td id=\"T_477e7754_9753_11eb_bba8_33a628e946e1row5_col4\" class=\"data row5 col4\" >13332.000000</td>\n",
       "                        <td id=\"T_477e7754_9753_11eb_bba8_33a628e946e1row5_col5\" class=\"data row5 col5\" >1375.000000</td>\n",
       "                        <td id=\"T_477e7754_9753_11eb_bba8_33a628e946e1row5_col6\" class=\"data row5 col6\" >240.000000</td>\n",
       "                        <td id=\"T_477e7754_9753_11eb_bba8_33a628e946e1row5_col7\" class=\"data row5 col7\" >980.000000</td>\n",
       "                        <td id=\"T_477e7754_9753_11eb_bba8_33a628e946e1row5_col8\" class=\"data row5 col8\" >0.210000</td>\n",
       "                        <td id=\"T_477e7754_9753_11eb_bba8_33a628e946e1row5_col9\" class=\"data row5 col9\" >0.190000</td>\n",
       "                        <td id=\"T_477e7754_9753_11eb_bba8_33a628e946e1row5_col10\" class=\"data row5 col10\" >0.020000</td>\n",
       "                        <td id=\"T_477e7754_9753_11eb_bba8_33a628e946e1row5_col11\" class=\"data row5 col11\" >137.000000</td>\n",
       "            </tr>\n",
       "            <tr>\n",
       "                        <th id=\"T_477e7754_9753_11eb_bba8_33a628e946e1level0_row6\" class=\"row_heading level0 row6\" >1190</th>\n",
       "                        <td id=\"T_477e7754_9753_11eb_bba8_33a628e946e1row6_col0\" class=\"data row6 col0\" >Bolivia</td>\n",
       "                        <td id=\"T_477e7754_9753_11eb_bba8_33a628e946e1row6_col1\" class=\"data row6 col1\" >2021-03-27 00:00:00</td>\n",
       "                        <td id=\"T_477e7754_9753_11eb_bba8_33a628e946e1row6_col2\" class=\"data row6 col2\" >Sputnik V</td>\n",
       "                        <td id=\"T_477e7754_9753_11eb_bba8_33a628e946e1row6_col3\" class=\"data row6 col3\" >263144.000000</td>\n",
       "                        <td id=\"T_477e7754_9753_11eb_bba8_33a628e946e1row6_col4\" class=\"data row6 col4\" >174799.000000</td>\n",
       "                        <td id=\"T_477e7754_9753_11eb_bba8_33a628e946e1row6_col5\" class=\"data row6 col5\" >88315.000000</td>\n",
       "                        <td id=\"T_477e7754_9753_11eb_bba8_33a628e946e1row6_col6\" class=\"data row6 col6\" >3973.000000</td>\n",
       "                        <td id=\"T_477e7754_9753_11eb_bba8_33a628e946e1row6_col7\" class=\"data row6 col7\" >13712.000000</td>\n",
       "                        <td id=\"T_477e7754_9753_11eb_bba8_33a628e946e1row6_col8\" class=\"data row6 col8\" >2.250000</td>\n",
       "                        <td id=\"T_477e7754_9753_11eb_bba8_33a628e946e1row6_col9\" class=\"data row6 col9\" >1.500000</td>\n",
       "                        <td id=\"T_477e7754_9753_11eb_bba8_33a628e946e1row6_col10\" class=\"data row6 col10\" >0.760000</td>\n",
       "                        <td id=\"T_477e7754_9753_11eb_bba8_33a628e946e1row6_col11\" class=\"data row6 col11\" >1175.000000</td>\n",
       "            </tr>\n",
       "            <tr>\n",
       "                        <th id=\"T_477e7754_9753_11eb_bba8_33a628e946e1level0_row7\" class=\"row_heading level0 row7\" >865</th>\n",
       "                        <td id=\"T_477e7754_9753_11eb_bba8_33a628e946e1row7_col0\" class=\"data row7 col0\" >Belarus</td>\n",
       "                        <td id=\"T_477e7754_9753_11eb_bba8_33a628e946e1row7_col1\" class=\"data row7 col1\" >2021-02-02 00:00:00</td>\n",
       "                        <td id=\"T_477e7754_9753_11eb_bba8_33a628e946e1row7_col2\" class=\"data row7 col2\" >Sputnik V</td>\n",
       "                        <td id=\"T_477e7754_9753_11eb_bba8_33a628e946e1row7_col3\" class=\"data row7 col3\" >0.000000</td>\n",
       "                        <td id=\"T_477e7754_9753_11eb_bba8_33a628e946e1row7_col4\" class=\"data row7 col4\" >0.000000</td>\n",
       "                        <td id=\"T_477e7754_9753_11eb_bba8_33a628e946e1row7_col5\" class=\"data row7 col5\" >0.000000</td>\n",
       "                        <td id=\"T_477e7754_9753_11eb_bba8_33a628e946e1row7_col6\" class=\"data row7 col6\" >0.000000</td>\n",
       "                        <td id=\"T_477e7754_9753_11eb_bba8_33a628e946e1row7_col7\" class=\"data row7 col7\" >403.000000</td>\n",
       "                        <td id=\"T_477e7754_9753_11eb_bba8_33a628e946e1row7_col8\" class=\"data row7 col8\" >0.000000</td>\n",
       "                        <td id=\"T_477e7754_9753_11eb_bba8_33a628e946e1row7_col9\" class=\"data row7 col9\" >0.000000</td>\n",
       "                        <td id=\"T_477e7754_9753_11eb_bba8_33a628e946e1row7_col10\" class=\"data row7 col10\" >0.000000</td>\n",
       "                        <td id=\"T_477e7754_9753_11eb_bba8_33a628e946e1row7_col11\" class=\"data row7 col11\" >43.000000</td>\n",
       "            </tr>\n",
       "            <tr>\n",
       "                        <th id=\"T_477e7754_9753_11eb_bba8_33a628e946e1level0_row8\" class=\"row_heading level0 row8\" >4144</th>\n",
       "                        <td id=\"T_477e7754_9753_11eb_bba8_33a628e946e1row8_col0\" class=\"data row8 col0\" >Iran</td>\n",
       "                        <td id=\"T_477e7754_9753_11eb_bba8_33a628e946e1row8_col1\" class=\"data row8 col1\" >2021-03-06 00:00:00</td>\n",
       "                        <td id=\"T_477e7754_9753_11eb_bba8_33a628e946e1row8_col2\" class=\"data row8 col2\" >Sputnik V</td>\n",
       "                        <td id=\"T_477e7754_9753_11eb_bba8_33a628e946e1row8_col3\" class=\"data row8 col3\" >0.000000</td>\n",
       "                        <td id=\"T_477e7754_9753_11eb_bba8_33a628e946e1row8_col4\" class=\"data row8 col4\" >0.000000</td>\n",
       "                        <td id=\"T_477e7754_9753_11eb_bba8_33a628e946e1row8_col5\" class=\"data row8 col5\" >0.000000</td>\n",
       "                        <td id=\"T_477e7754_9753_11eb_bba8_33a628e946e1row8_col6\" class=\"data row8 col6\" >0.000000</td>\n",
       "                        <td id=\"T_477e7754_9753_11eb_bba8_33a628e946e1row8_col7\" class=\"data row8 col7\" >3806.000000</td>\n",
       "                        <td id=\"T_477e7754_9753_11eb_bba8_33a628e946e1row8_col8\" class=\"data row8 col8\" >0.000000</td>\n",
       "                        <td id=\"T_477e7754_9753_11eb_bba8_33a628e946e1row8_col9\" class=\"data row8 col9\" >0.000000</td>\n",
       "                        <td id=\"T_477e7754_9753_11eb_bba8_33a628e946e1row8_col10\" class=\"data row8 col10\" >0.000000</td>\n",
       "                        <td id=\"T_477e7754_9753_11eb_bba8_33a628e946e1row8_col11\" class=\"data row8 col11\" >45.000000</td>\n",
       "            </tr>\n",
       "            <tr>\n",
       "                        <th id=\"T_477e7754_9753_11eb_bba8_33a628e946e1level0_row9\" class=\"row_heading level0 row9\" >4130</th>\n",
       "                        <td id=\"T_477e7754_9753_11eb_bba8_33a628e946e1row9_col0\" class=\"data row9 col0\" >Iran</td>\n",
       "                        <td id=\"T_477e7754_9753_11eb_bba8_33a628e946e1row9_col1\" class=\"data row9 col1\" >2021-02-20 00:00:00</td>\n",
       "                        <td id=\"T_477e7754_9753_11eb_bba8_33a628e946e1row9_col2\" class=\"data row9 col2\" >Sputnik V</td>\n",
       "                        <td id=\"T_477e7754_9753_11eb_bba8_33a628e946e1row9_col3\" class=\"data row9 col3\" >0.000000</td>\n",
       "                        <td id=\"T_477e7754_9753_11eb_bba8_33a628e946e1row9_col4\" class=\"data row9 col4\" >0.000000</td>\n",
       "                        <td id=\"T_477e7754_9753_11eb_bba8_33a628e946e1row9_col5\" class=\"data row9 col5\" >0.000000</td>\n",
       "                        <td id=\"T_477e7754_9753_11eb_bba8_33a628e946e1row9_col6\" class=\"data row9 col6\" >0.000000</td>\n",
       "                        <td id=\"T_477e7754_9753_11eb_bba8_33a628e946e1row9_col7\" class=\"data row9 col7\" >2131.000000</td>\n",
       "                        <td id=\"T_477e7754_9753_11eb_bba8_33a628e946e1row9_col8\" class=\"data row9 col8\" >0.000000</td>\n",
       "                        <td id=\"T_477e7754_9753_11eb_bba8_33a628e946e1row9_col9\" class=\"data row9 col9\" >0.000000</td>\n",
       "                        <td id=\"T_477e7754_9753_11eb_bba8_33a628e946e1row9_col10\" class=\"data row9 col10\" >0.000000</td>\n",
       "                        <td id=\"T_477e7754_9753_11eb_bba8_33a628e946e1row9_col11\" class=\"data row9 col11\" >25.000000</td>\n",
       "            </tr>\n",
       "    </tbody></table>"
      ],
      "text/plain": [
       "<pandas.io.formats.style.Styler at 0x7fe71efc6fd0>"
      ]
     },
     "execution_count": 13,
     "metadata": {},
     "output_type": "execute_result"
    }
   ],
   "source": [
    "SputnikV_vaccine.sample(10).style.background_gradient(cmap=\"CMRmap_r\")"
   ]
  },
  {
   "cell_type": "markdown",
   "metadata": {},
   "source": [
    "#### Oxford/AstraZeneca"
   ]
  },
  {
   "cell_type": "code",
   "execution_count": 14,
   "metadata": {},
   "outputs": [],
   "source": [
    "oxford_astraZeneca_vaccine = country_vaccinations_df[country_vaccinations_df[\"vaccines\"]==\"Oxford/AstraZeneca\"][select_column].sort_values(by=\"total_vaccinations\")"
   ]
  },
  {
   "cell_type": "code",
   "execution_count": 15,
   "metadata": {},
   "outputs": [
    {
     "data": {
      "text/html": [
       "<style  type=\"text/css\" >\n",
       "#T_47bea3f6_9753_11eb_bba8_33a628e946e1row0_col3,#T_47bea3f6_9753_11eb_bba8_33a628e946e1row0_col4,#T_47bea3f6_9753_11eb_bba8_33a628e946e1row0_col5,#T_47bea3f6_9753_11eb_bba8_33a628e946e1row0_col6,#T_47bea3f6_9753_11eb_bba8_33a628e946e1row0_col8,#T_47bea3f6_9753_11eb_bba8_33a628e946e1row0_col9,#T_47bea3f6_9753_11eb_bba8_33a628e946e1row0_col10,#T_47bea3f6_9753_11eb_bba8_33a628e946e1row1_col3,#T_47bea3f6_9753_11eb_bba8_33a628e946e1row1_col4,#T_47bea3f6_9753_11eb_bba8_33a628e946e1row1_col5,#T_47bea3f6_9753_11eb_bba8_33a628e946e1row1_col6,#T_47bea3f6_9753_11eb_bba8_33a628e946e1row1_col7,#T_47bea3f6_9753_11eb_bba8_33a628e946e1row1_col8,#T_47bea3f6_9753_11eb_bba8_33a628e946e1row1_col9,#T_47bea3f6_9753_11eb_bba8_33a628e946e1row1_col10,#T_47bea3f6_9753_11eb_bba8_33a628e946e1row2_col3,#T_47bea3f6_9753_11eb_bba8_33a628e946e1row2_col4,#T_47bea3f6_9753_11eb_bba8_33a628e946e1row2_col5,#T_47bea3f6_9753_11eb_bba8_33a628e946e1row2_col6,#T_47bea3f6_9753_11eb_bba8_33a628e946e1row2_col7,#T_47bea3f6_9753_11eb_bba8_33a628e946e1row2_col8,#T_47bea3f6_9753_11eb_bba8_33a628e946e1row2_col9,#T_47bea3f6_9753_11eb_bba8_33a628e946e1row2_col10,#T_47bea3f6_9753_11eb_bba8_33a628e946e1row3_col4,#T_47bea3f6_9753_11eb_bba8_33a628e946e1row3_col5,#T_47bea3f6_9753_11eb_bba8_33a628e946e1row3_col9,#T_47bea3f6_9753_11eb_bba8_33a628e946e1row3_col10,#T_47bea3f6_9753_11eb_bba8_33a628e946e1row4_col3,#T_47bea3f6_9753_11eb_bba8_33a628e946e1row4_col4,#T_47bea3f6_9753_11eb_bba8_33a628e946e1row4_col5,#T_47bea3f6_9753_11eb_bba8_33a628e946e1row4_col6,#T_47bea3f6_9753_11eb_bba8_33a628e946e1row4_col8,#T_47bea3f6_9753_11eb_bba8_33a628e946e1row4_col9,#T_47bea3f6_9753_11eb_bba8_33a628e946e1row4_col10,#T_47bea3f6_9753_11eb_bba8_33a628e946e1row4_col11,#T_47bea3f6_9753_11eb_bba8_33a628e946e1row5_col4,#T_47bea3f6_9753_11eb_bba8_33a628e946e1row5_col5,#T_47bea3f6_9753_11eb_bba8_33a628e946e1row5_col9,#T_47bea3f6_9753_11eb_bba8_33a628e946e1row5_col10,#T_47bea3f6_9753_11eb_bba8_33a628e946e1row6_col5,#T_47bea3f6_9753_11eb_bba8_33a628e946e1row6_col10,#T_47bea3f6_9753_11eb_bba8_33a628e946e1row7_col3,#T_47bea3f6_9753_11eb_bba8_33a628e946e1row7_col4,#T_47bea3f6_9753_11eb_bba8_33a628e946e1row7_col5,#T_47bea3f6_9753_11eb_bba8_33a628e946e1row7_col6,#T_47bea3f6_9753_11eb_bba8_33a628e946e1row7_col7,#T_47bea3f6_9753_11eb_bba8_33a628e946e1row7_col8,#T_47bea3f6_9753_11eb_bba8_33a628e946e1row7_col9,#T_47bea3f6_9753_11eb_bba8_33a628e946e1row7_col10,#T_47bea3f6_9753_11eb_bba8_33a628e946e1row8_col5,#T_47bea3f6_9753_11eb_bba8_33a628e946e1row8_col10,#T_47bea3f6_9753_11eb_bba8_33a628e946e1row9_col3,#T_47bea3f6_9753_11eb_bba8_33a628e946e1row9_col4,#T_47bea3f6_9753_11eb_bba8_33a628e946e1row9_col5,#T_47bea3f6_9753_11eb_bba8_33a628e946e1row9_col6,#T_47bea3f6_9753_11eb_bba8_33a628e946e1row9_col8,#T_47bea3f6_9753_11eb_bba8_33a628e946e1row9_col9,#T_47bea3f6_9753_11eb_bba8_33a628e946e1row9_col10,#T_47bea3f6_9753_11eb_bba8_33a628e946e1row9_col11{\n",
       "            background-color:  #ffffff;\n",
       "            color:  #000000;\n",
       "        }#T_47bea3f6_9753_11eb_bba8_33a628e946e1row0_col7,#T_47bea3f6_9753_11eb_bba8_33a628e946e1row4_col7,#T_47bea3f6_9753_11eb_bba8_33a628e946e1row6_col11{\n",
       "            background-color:  #fefefb;\n",
       "            color:  #000000;\n",
       "        }#T_47bea3f6_9753_11eb_bba8_33a628e946e1row0_col11{\n",
       "            background-color:  #f0f0b3;\n",
       "            color:  #000000;\n",
       "        }#T_47bea3f6_9753_11eb_bba8_33a628e946e1row1_col11{\n",
       "            background-color:  #f4f4c7;\n",
       "            color:  #000000;\n",
       "        }#T_47bea3f6_9753_11eb_bba8_33a628e946e1row2_col11{\n",
       "            background-color:  #e6d656;\n",
       "            color:  #000000;\n",
       "        }#T_47bea3f6_9753_11eb_bba8_33a628e946e1row3_col3,#T_47bea3f6_9753_11eb_bba8_33a628e946e1row8_col3,#T_47bea3f6_9753_11eb_bba8_33a628e946e1row8_col4{\n",
       "            background-color:  #f2f2bf;\n",
       "            color:  #000000;\n",
       "        }#T_47bea3f6_9753_11eb_bba8_33a628e946e1row3_col6,#T_47bea3f6_9753_11eb_bba8_33a628e946e1row5_col3,#T_47bea3f6_9753_11eb_bba8_33a628e946e1row5_col6{\n",
       "            background-color:  #fdfdf7;\n",
       "            color:  #000000;\n",
       "        }#T_47bea3f6_9753_11eb_bba8_33a628e946e1row3_col7,#T_47bea3f6_9753_11eb_bba8_33a628e946e1row6_col8,#T_47bea3f6_9753_11eb_bba8_33a628e946e1row7_col11,#T_47bea3f6_9753_11eb_bba8_33a628e946e1row9_col7{\n",
       "            background-color:  #f5f5cf;\n",
       "            color:  #000000;\n",
       "        }#T_47bea3f6_9753_11eb_bba8_33a628e946e1row3_col8,#T_47bea3f6_9753_11eb_bba8_33a628e946e1row6_col3,#T_47bea3f6_9753_11eb_bba8_33a628e946e1row6_col4,#T_47bea3f6_9753_11eb_bba8_33a628e946e1row6_col6,#T_47bea3f6_9753_11eb_bba8_33a628e946e1row6_col7,#T_47bea3f6_9753_11eb_bba8_33a628e946e1row8_col9,#T_47bea3f6_9753_11eb_bba8_33a628e946e1row8_col11{\n",
       "            background-color:  #000000;\n",
       "            color:  #f1f1f1;\n",
       "        }#T_47bea3f6_9753_11eb_bba8_33a628e946e1row3_col11{\n",
       "            background-color:  #e9e98f;\n",
       "            color:  #000000;\n",
       "        }#T_47bea3f6_9753_11eb_bba8_33a628e946e1row5_col7{\n",
       "            background-color:  #fbfbeb;\n",
       "            color:  #000000;\n",
       "        }#T_47bea3f6_9753_11eb_bba8_33a628e946e1row5_col8{\n",
       "            background-color:  #e6df6f;\n",
       "            color:  #000000;\n",
       "        }#T_47bea3f6_9753_11eb_bba8_33a628e946e1row5_col11{\n",
       "            background-color:  #f5f5cb;\n",
       "            color:  #000000;\n",
       "        }#T_47bea3f6_9753_11eb_bba8_33a628e946e1row6_col9{\n",
       "            background-color:  #f1f1b7;\n",
       "            color:  #000000;\n",
       "        }#T_47bea3f6_9753_11eb_bba8_33a628e946e1row8_col6{\n",
       "            background-color:  #d73b49;\n",
       "            color:  #f1f1f1;\n",
       "        }#T_47bea3f6_9753_11eb_bba8_33a628e946e1row8_col7{\n",
       "            background-color:  #903287;\n",
       "            color:  #f1f1f1;\n",
       "        }#T_47bea3f6_9753_11eb_bba8_33a628e946e1row8_col8{\n",
       "            background-color:  #762d9d;\n",
       "            color:  #f1f1f1;\n",
       "        }</style><table id=\"T_47bea3f6_9753_11eb_bba8_33a628e946e1\" ><thead>    <tr>        <th class=\"blank level0\" ></th>        <th class=\"col_heading level0 col0\" >country</th>        <th class=\"col_heading level0 col1\" >date</th>        <th class=\"col_heading level0 col2\" >vaccines</th>        <th class=\"col_heading level0 col3\" >total_vaccinations</th>        <th class=\"col_heading level0 col4\" >people_vaccinated</th>        <th class=\"col_heading level0 col5\" >people_fully_vaccinated</th>        <th class=\"col_heading level0 col6\" >daily_vaccinations_raw</th>        <th class=\"col_heading level0 col7\" >daily_vaccinations</th>        <th class=\"col_heading level0 col8\" >total_vaccinations_per_hundred</th>        <th class=\"col_heading level0 col9\" >people_vaccinated_per_hundred</th>        <th class=\"col_heading level0 col10\" >people_fully_vaccinated_per_hundred</th>        <th class=\"col_heading level0 col11\" >daily_vaccinations_per_million</th>    </tr></thead><tbody>\n",
       "                <tr>\n",
       "                        <th id=\"T_47bea3f6_9753_11eb_bba8_33a628e946e1level0_row0\" class=\"row_heading level0 row0\" >259</th>\n",
       "                        <td id=\"T_47bea3f6_9753_11eb_bba8_33a628e946e1row0_col0\" class=\"data row0 col0\" >Antigua and Barbuda</td>\n",
       "                        <td id=\"T_47bea3f6_9753_11eb_bba8_33a628e946e1row0_col1\" class=\"data row0 col1\" >2021-02-20 00:00:00</td>\n",
       "                        <td id=\"T_47bea3f6_9753_11eb_bba8_33a628e946e1row0_col2\" class=\"data row0 col2\" >Oxford/AstraZeneca</td>\n",
       "                        <td id=\"T_47bea3f6_9753_11eb_bba8_33a628e946e1row0_col3\" class=\"data row0 col3\" >0.000000</td>\n",
       "                        <td id=\"T_47bea3f6_9753_11eb_bba8_33a628e946e1row0_col4\" class=\"data row0 col4\" >0.000000</td>\n",
       "                        <td id=\"T_47bea3f6_9753_11eb_bba8_33a628e946e1row0_col5\" class=\"data row0 col5\" >0.000000</td>\n",
       "                        <td id=\"T_47bea3f6_9753_11eb_bba8_33a628e946e1row0_col6\" class=\"data row0 col6\" >0.000000</td>\n",
       "                        <td id=\"T_47bea3f6_9753_11eb_bba8_33a628e946e1row0_col7\" class=\"data row0 col7\" >895.000000</td>\n",
       "                        <td id=\"T_47bea3f6_9753_11eb_bba8_33a628e946e1row0_col8\" class=\"data row0 col8\" >0.000000</td>\n",
       "                        <td id=\"T_47bea3f6_9753_11eb_bba8_33a628e946e1row0_col9\" class=\"data row0 col9\" >0.000000</td>\n",
       "                        <td id=\"T_47bea3f6_9753_11eb_bba8_33a628e946e1row0_col10\" class=\"data row0 col10\" >0.000000</td>\n",
       "                        <td id=\"T_47bea3f6_9753_11eb_bba8_33a628e946e1row0_col11\" class=\"data row0 col11\" >9139.000000</td>\n",
       "            </tr>\n",
       "            <tr>\n",
       "                        <th id=\"T_47bea3f6_9753_11eb_bba8_33a628e946e1level0_row1\" class=\"row_heading level0 row1\" >5915</th>\n",
       "                        <td id=\"T_47bea3f6_9753_11eb_bba8_33a628e946e1row1_col0\" class=\"data row1 col0\" >Montserrat</td>\n",
       "                        <td id=\"T_47bea3f6_9753_11eb_bba8_33a628e946e1row1_col1\" class=\"data row1 col1\" >2021-02-26 00:00:00</td>\n",
       "                        <td id=\"T_47bea3f6_9753_11eb_bba8_33a628e946e1row1_col2\" class=\"data row1 col2\" >Oxford/AstraZeneca</td>\n",
       "                        <td id=\"T_47bea3f6_9753_11eb_bba8_33a628e946e1row1_col3\" class=\"data row1 col3\" >0.000000</td>\n",
       "                        <td id=\"T_47bea3f6_9753_11eb_bba8_33a628e946e1row1_col4\" class=\"data row1 col4\" >0.000000</td>\n",
       "                        <td id=\"T_47bea3f6_9753_11eb_bba8_33a628e946e1row1_col5\" class=\"data row1 col5\" >0.000000</td>\n",
       "                        <td id=\"T_47bea3f6_9753_11eb_bba8_33a628e946e1row1_col6\" class=\"data row1 col6\" >0.000000</td>\n",
       "                        <td id=\"T_47bea3f6_9753_11eb_bba8_33a628e946e1row1_col7\" class=\"data row1 col7\" >33.000000</td>\n",
       "                        <td id=\"T_47bea3f6_9753_11eb_bba8_33a628e946e1row1_col8\" class=\"data row1 col8\" >0.000000</td>\n",
       "                        <td id=\"T_47bea3f6_9753_11eb_bba8_33a628e946e1row1_col9\" class=\"data row1 col9\" >0.000000</td>\n",
       "                        <td id=\"T_47bea3f6_9753_11eb_bba8_33a628e946e1row1_col10\" class=\"data row1 col10\" >0.000000</td>\n",
       "                        <td id=\"T_47bea3f6_9753_11eb_bba8_33a628e946e1row1_col11\" class=\"data row1 col11\" >6601.000000</td>\n",
       "            </tr>\n",
       "            <tr>\n",
       "                        <th id=\"T_47bea3f6_9753_11eb_bba8_33a628e946e1level0_row2\" class=\"row_heading level0 row2\" >223</th>\n",
       "                        <td id=\"T_47bea3f6_9753_11eb_bba8_33a628e946e1row2_col0\" class=\"data row2 col0\" >Anguilla</td>\n",
       "                        <td id=\"T_47bea3f6_9753_11eb_bba8_33a628e946e1row2_col1\" class=\"data row2 col1\" >2021-02-16 00:00:00</td>\n",
       "                        <td id=\"T_47bea3f6_9753_11eb_bba8_33a628e946e1row2_col2\" class=\"data row2 col2\" >Oxford/AstraZeneca</td>\n",
       "                        <td id=\"T_47bea3f6_9753_11eb_bba8_33a628e946e1row2_col3\" class=\"data row2 col3\" >0.000000</td>\n",
       "                        <td id=\"T_47bea3f6_9753_11eb_bba8_33a628e946e1row2_col4\" class=\"data row2 col4\" >0.000000</td>\n",
       "                        <td id=\"T_47bea3f6_9753_11eb_bba8_33a628e946e1row2_col5\" class=\"data row2 col5\" >0.000000</td>\n",
       "                        <td id=\"T_47bea3f6_9753_11eb_bba8_33a628e946e1row2_col6\" class=\"data row2 col6\" >0.000000</td>\n",
       "                        <td id=\"T_47bea3f6_9753_11eb_bba8_33a628e946e1row2_col7\" class=\"data row2 col7\" >316.000000</td>\n",
       "                        <td id=\"T_47bea3f6_9753_11eb_bba8_33a628e946e1row2_col8\" class=\"data row2 col8\" >0.000000</td>\n",
       "                        <td id=\"T_47bea3f6_9753_11eb_bba8_33a628e946e1row2_col9\" class=\"data row2 col9\" >0.000000</td>\n",
       "                        <td id=\"T_47bea3f6_9753_11eb_bba8_33a628e946e1row2_col10\" class=\"data row2 col10\" >0.000000</td>\n",
       "                        <td id=\"T_47bea3f6_9753_11eb_bba8_33a628e946e1row2_col11\" class=\"data row2 col11\" >21064.000000</td>\n",
       "            </tr>\n",
       "            <tr>\n",
       "                        <th id=\"T_47bea3f6_9753_11eb_bba8_33a628e946e1level0_row3\" class=\"row_heading level0 row3\" >5471</th>\n",
       "                        <td id=\"T_47bea3f6_9753_11eb_bba8_33a628e946e1row3_col0\" class=\"data row3 col0\" >Maldives</td>\n",
       "                        <td id=\"T_47bea3f6_9753_11eb_bba8_33a628e946e1row3_col1\" class=\"data row3 col1\" >2021-03-12 00:00:00</td>\n",
       "                        <td id=\"T_47bea3f6_9753_11eb_bba8_33a628e946e1row3_col2\" class=\"data row3 col2\" >Oxford/AstraZeneca</td>\n",
       "                        <td id=\"T_47bea3f6_9753_11eb_bba8_33a628e946e1row3_col3\" class=\"data row3 col3\" >188436.000000</td>\n",
       "                        <td id=\"T_47bea3f6_9753_11eb_bba8_33a628e946e1row3_col4\" class=\"data row3 col4\" >0.000000</td>\n",
       "                        <td id=\"T_47bea3f6_9753_11eb_bba8_33a628e946e1row3_col5\" class=\"data row3 col5\" >0.000000</td>\n",
       "                        <td id=\"T_47bea3f6_9753_11eb_bba8_33a628e946e1row3_col6\" class=\"data row3 col6\" >1506.000000</td>\n",
       "                        <td id=\"T_47bea3f6_9753_11eb_bba8_33a628e946e1row3_col7\" class=\"data row3 col7\" >7087.000000</td>\n",
       "                        <td id=\"T_47bea3f6_9753_11eb_bba8_33a628e946e1row3_col8\" class=\"data row3 col8\" >34.860000</td>\n",
       "                        <td id=\"T_47bea3f6_9753_11eb_bba8_33a628e946e1row3_col9\" class=\"data row3 col9\" >0.000000</td>\n",
       "                        <td id=\"T_47bea3f6_9753_11eb_bba8_33a628e946e1row3_col10\" class=\"data row3 col10\" >0.000000</td>\n",
       "                        <td id=\"T_47bea3f6_9753_11eb_bba8_33a628e946e1row3_col11\" class=\"data row3 col11\" >13111.000000</td>\n",
       "            </tr>\n",
       "            <tr>\n",
       "                        <th id=\"T_47bea3f6_9753_11eb_bba8_33a628e946e1level0_row4\" class=\"row_heading level0 row4\" >4815</th>\n",
       "                        <td id=\"T_47bea3f6_9753_11eb_bba8_33a628e946e1row4_col0\" class=\"data row4 col0\" >Kenya</td>\n",
       "                        <td id=\"T_47bea3f6_9753_11eb_bba8_33a628e946e1row4_col1\" class=\"data row4 col1\" >2021-03-13 00:00:00</td>\n",
       "                        <td id=\"T_47bea3f6_9753_11eb_bba8_33a628e946e1row4_col2\" class=\"data row4 col2\" >Oxford/AstraZeneca</td>\n",
       "                        <td id=\"T_47bea3f6_9753_11eb_bba8_33a628e946e1row4_col3\" class=\"data row4 col3\" >0.000000</td>\n",
       "                        <td id=\"T_47bea3f6_9753_11eb_bba8_33a628e946e1row4_col4\" class=\"data row4 col4\" >0.000000</td>\n",
       "                        <td id=\"T_47bea3f6_9753_11eb_bba8_33a628e946e1row4_col5\" class=\"data row4 col5\" >0.000000</td>\n",
       "                        <td id=\"T_47bea3f6_9753_11eb_bba8_33a628e946e1row4_col6\" class=\"data row4 col6\" >0.000000</td>\n",
       "                        <td id=\"T_47bea3f6_9753_11eb_bba8_33a628e946e1row4_col7\" class=\"data row4 col7\" >932.000000</td>\n",
       "                        <td id=\"T_47bea3f6_9753_11eb_bba8_33a628e946e1row4_col8\" class=\"data row4 col8\" >0.000000</td>\n",
       "                        <td id=\"T_47bea3f6_9753_11eb_bba8_33a628e946e1row4_col9\" class=\"data row4 col9\" >0.000000</td>\n",
       "                        <td id=\"T_47bea3f6_9753_11eb_bba8_33a628e946e1row4_col10\" class=\"data row4 col10\" >0.000000</td>\n",
       "                        <td id=\"T_47bea3f6_9753_11eb_bba8_33a628e946e1row4_col11\" class=\"data row4 col11\" >17.000000</td>\n",
       "            </tr>\n",
       "            <tr>\n",
       "                        <th id=\"T_47bea3f6_9753_11eb_bba8_33a628e946e1level0_row5\" class=\"row_heading level0 row5\" >5443</th>\n",
       "                        <td id=\"T_47bea3f6_9753_11eb_bba8_33a628e946e1row5_col0\" class=\"data row5 col0\" >Maldives</td>\n",
       "                        <td id=\"T_47bea3f6_9753_11eb_bba8_33a628e946e1row5_col1\" class=\"data row5 col1\" >2021-02-12 00:00:00</td>\n",
       "                        <td id=\"T_47bea3f6_9753_11eb_bba8_33a628e946e1row5_col2\" class=\"data row5 col2\" >Oxford/AstraZeneca</td>\n",
       "                        <td id=\"T_47bea3f6_9753_11eb_bba8_33a628e946e1row5_col3\" class=\"data row5 col3\" >27367.000000</td>\n",
       "                        <td id=\"T_47bea3f6_9753_11eb_bba8_33a628e946e1row5_col4\" class=\"data row5 col4\" >0.000000</td>\n",
       "                        <td id=\"T_47bea3f6_9753_11eb_bba8_33a628e946e1row5_col5\" class=\"data row5 col5\" >0.000000</td>\n",
       "                        <td id=\"T_47bea3f6_9753_11eb_bba8_33a628e946e1row5_col6\" class=\"data row5 col6\" >2040.000000</td>\n",
       "                        <td id=\"T_47bea3f6_9753_11eb_bba8_33a628e946e1row5_col7\" class=\"data row5 col7\" >3300.000000</td>\n",
       "                        <td id=\"T_47bea3f6_9753_11eb_bba8_33a628e946e1row5_col8\" class=\"data row5 col8\" >5.060000</td>\n",
       "                        <td id=\"T_47bea3f6_9753_11eb_bba8_33a628e946e1row5_col9\" class=\"data row5 col9\" >0.000000</td>\n",
       "                        <td id=\"T_47bea3f6_9753_11eb_bba8_33a628e946e1row5_col10\" class=\"data row5 col10\" >0.000000</td>\n",
       "                        <td id=\"T_47bea3f6_9753_11eb_bba8_33a628e946e1row5_col11\" class=\"data row5 col11\" >6105.000000</td>\n",
       "            </tr>\n",
       "            <tr>\n",
       "                        <th id=\"T_47bea3f6_9753_11eb_bba8_33a628e946e1level0_row6\" class=\"row_heading level0 row6\" >745</th>\n",
       "                        <td id=\"T_47bea3f6_9753_11eb_bba8_33a628e946e1row6_col0\" class=\"data row6 col0\" >Bangladesh</td>\n",
       "                        <td id=\"T_47bea3f6_9753_11eb_bba8_33a628e946e1row6_col1\" class=\"data row6 col1\" >2021-02-25 00:00:00</td>\n",
       "                        <td id=\"T_47bea3f6_9753_11eb_bba8_33a628e946e1row6_col2\" class=\"data row6 col2\" >Oxford/AstraZeneca</td>\n",
       "                        <td id=\"T_47bea3f6_9753_11eb_bba8_33a628e946e1row6_col3\" class=\"data row6 col3\" >2850940.000000</td>\n",
       "                        <td id=\"T_47bea3f6_9753_11eb_bba8_33a628e946e1row6_col4\" class=\"data row6 col4\" >2850940.000000</td>\n",
       "                        <td id=\"T_47bea3f6_9753_11eb_bba8_33a628e946e1row6_col5\" class=\"data row6 col5\" >0.000000</td>\n",
       "                        <td id=\"T_47bea3f6_9753_11eb_bba8_33a628e946e1row6_col6\" class=\"data row6 col6\" >177902.000000</td>\n",
       "                        <td id=\"T_47bea3f6_9753_11eb_bba8_33a628e946e1row6_col7\" class=\"data row6 col7\" >143232.000000</td>\n",
       "                        <td id=\"T_47bea3f6_9753_11eb_bba8_33a628e946e1row6_col8\" class=\"data row6 col8\" >1.730000</td>\n",
       "                        <td id=\"T_47bea3f6_9753_11eb_bba8_33a628e946e1row6_col9\" class=\"data row6 col9\" >1.730000</td>\n",
       "                        <td id=\"T_47bea3f6_9753_11eb_bba8_33a628e946e1row6_col10\" class=\"data row6 col10\" >0.000000</td>\n",
       "                        <td id=\"T_47bea3f6_9753_11eb_bba8_33a628e946e1row6_col11\" class=\"data row6 col11\" >870.000000</td>\n",
       "            </tr>\n",
       "            <tr>\n",
       "                        <th id=\"T_47bea3f6_9753_11eb_bba8_33a628e946e1level0_row7\" class=\"row_heading level0 row7\" >7452</th>\n",
       "                        <td id=\"T_47bea3f6_9753_11eb_bba8_33a628e946e1row7_col0\" class=\"data row7 col0\" >Saint Kitts and Nevis</td>\n",
       "                        <td id=\"T_47bea3f6_9753_11eb_bba8_33a628e946e1row7_col1\" class=\"data row7 col1\" >2021-03-09 00:00:00</td>\n",
       "                        <td id=\"T_47bea3f6_9753_11eb_bba8_33a628e946e1row7_col2\" class=\"data row7 col2\" >Oxford/AstraZeneca</td>\n",
       "                        <td id=\"T_47bea3f6_9753_11eb_bba8_33a628e946e1row7_col3\" class=\"data row7 col3\" >0.000000</td>\n",
       "                        <td id=\"T_47bea3f6_9753_11eb_bba8_33a628e946e1row7_col4\" class=\"data row7 col4\" >0.000000</td>\n",
       "                        <td id=\"T_47bea3f6_9753_11eb_bba8_33a628e946e1row7_col5\" class=\"data row7 col5\" >0.000000</td>\n",
       "                        <td id=\"T_47bea3f6_9753_11eb_bba8_33a628e946e1row7_col6\" class=\"data row7 col6\" >0.000000</td>\n",
       "                        <td id=\"T_47bea3f6_9753_11eb_bba8_33a628e946e1row7_col7\" class=\"data row7 col7\" >314.000000</td>\n",
       "                        <td id=\"T_47bea3f6_9753_11eb_bba8_33a628e946e1row7_col8\" class=\"data row7 col8\" >0.000000</td>\n",
       "                        <td id=\"T_47bea3f6_9753_11eb_bba8_33a628e946e1row7_col9\" class=\"data row7 col9\" >0.000000</td>\n",
       "                        <td id=\"T_47bea3f6_9753_11eb_bba8_33a628e946e1row7_col10\" class=\"data row7 col10\" >0.000000</td>\n",
       "                        <td id=\"T_47bea3f6_9753_11eb_bba8_33a628e946e1row7_col11\" class=\"data row7 col11\" >5903.000000</td>\n",
       "            </tr>\n",
       "            <tr>\n",
       "                        <th id=\"T_47bea3f6_9753_11eb_bba8_33a628e946e1level0_row8\" class=\"row_heading level0 row8\" >1125</th>\n",
       "                        <td id=\"T_47bea3f6_9753_11eb_bba8_33a628e946e1row8_col0\" class=\"data row8 col0\" >Bhutan</td>\n",
       "                        <td id=\"T_47bea3f6_9753_11eb_bba8_33a628e946e1row8_col1\" class=\"data row8 col1\" >2021-03-28 00:00:00</td>\n",
       "                        <td id=\"T_47bea3f6_9753_11eb_bba8_33a628e946e1row8_col2\" class=\"data row8 col2\" >Oxford/AstraZeneca</td>\n",
       "                        <td id=\"T_47bea3f6_9753_11eb_bba8_33a628e946e1row8_col3\" class=\"data row8 col3\" >183271.000000</td>\n",
       "                        <td id=\"T_47bea3f6_9753_11eb_bba8_33a628e946e1row8_col4\" class=\"data row8 col4\" >183271.000000</td>\n",
       "                        <td id=\"T_47bea3f6_9753_11eb_bba8_33a628e946e1row8_col5\" class=\"data row8 col5\" >0.000000</td>\n",
       "                        <td id=\"T_47bea3f6_9753_11eb_bba8_33a628e946e1row8_col6\" class=\"data row8 col6\" >97322.000000</td>\n",
       "                        <td id=\"T_47bea3f6_9753_11eb_bba8_33a628e946e1row8_col7\" class=\"data row8 col7\" >91636.000000</td>\n",
       "                        <td id=\"T_47bea3f6_9753_11eb_bba8_33a628e946e1row8_col8\" class=\"data row8 col8\" >23.750000</td>\n",
       "                        <td id=\"T_47bea3f6_9753_11eb_bba8_33a628e946e1row8_col9\" class=\"data row8 col9\" >23.750000</td>\n",
       "                        <td id=\"T_47bea3f6_9753_11eb_bba8_33a628e946e1row8_col10\" class=\"data row8 col10\" >0.000000</td>\n",
       "                        <td id=\"T_47bea3f6_9753_11eb_bba8_33a628e946e1row8_col11\" class=\"data row8 col11\" >118759.000000</td>\n",
       "            </tr>\n",
       "            <tr>\n",
       "                        <th id=\"T_47bea3f6_9753_11eb_bba8_33a628e946e1level0_row9\" class=\"row_heading level0 row9\" >8492</th>\n",
       "                        <td id=\"T_47bea3f6_9753_11eb_bba8_33a628e946e1row9_col0\" class=\"data row9 col0\" >Sri Lanka</td>\n",
       "                        <td id=\"T_47bea3f6_9753_11eb_bba8_33a628e946e1row9_col1\" class=\"data row9 col1\" >2021-03-23 00:00:00</td>\n",
       "                        <td id=\"T_47bea3f6_9753_11eb_bba8_33a628e946e1row9_col2\" class=\"data row9 col2\" >Oxford/AstraZeneca</td>\n",
       "                        <td id=\"T_47bea3f6_9753_11eb_bba8_33a628e946e1row9_col3\" class=\"data row9 col3\" >0.000000</td>\n",
       "                        <td id=\"T_47bea3f6_9753_11eb_bba8_33a628e946e1row9_col4\" class=\"data row9 col4\" >0.000000</td>\n",
       "                        <td id=\"T_47bea3f6_9753_11eb_bba8_33a628e946e1row9_col5\" class=\"data row9 col5\" >0.000000</td>\n",
       "                        <td id=\"T_47bea3f6_9753_11eb_bba8_33a628e946e1row9_col6\" class=\"data row9 col6\" >0.000000</td>\n",
       "                        <td id=\"T_47bea3f6_9753_11eb_bba8_33a628e946e1row9_col7\" class=\"data row9 col7\" >7246.000000</td>\n",
       "                        <td id=\"T_47bea3f6_9753_11eb_bba8_33a628e946e1row9_col8\" class=\"data row9 col8\" >0.000000</td>\n",
       "                        <td id=\"T_47bea3f6_9753_11eb_bba8_33a628e946e1row9_col9\" class=\"data row9 col9\" >0.000000</td>\n",
       "                        <td id=\"T_47bea3f6_9753_11eb_bba8_33a628e946e1row9_col10\" class=\"data row9 col10\" >0.000000</td>\n",
       "                        <td id=\"T_47bea3f6_9753_11eb_bba8_33a628e946e1row9_col11\" class=\"data row9 col11\" >338.000000</td>\n",
       "            </tr>\n",
       "    </tbody></table>"
      ],
      "text/plain": [
       "<pandas.io.formats.style.Styler at 0x7fe71efc9d30>"
      ]
     },
     "execution_count": 15,
     "metadata": {},
     "output_type": "execute_result"
    }
   ],
   "source": [
    "oxford_astraZeneca_vaccine.sample(10).style.background_gradient(cmap=\"CMRmap_r\")"
   ]
  },
  {
   "cell_type": "markdown",
   "metadata": {},
   "source": [
    "#### Moderna, Oxford/AstraZeneca, Pfizer/BioNTech"
   ]
  },
  {
   "cell_type": "code",
   "execution_count": 16,
   "metadata": {},
   "outputs": [],
   "source": [
    "moderna_oxford_astraZeneca_pfizer_bioNTech = country_vaccinations_df[country_vaccinations_df[\"vaccines\"]==\"Moderna, Oxford/AstraZeneca, Pfizer/BioNTech\"][select_column].sort_values(by=\"total_vaccinations\")"
   ]
  },
  {
   "cell_type": "code",
   "execution_count": 17,
   "metadata": {},
   "outputs": [
    {
     "data": {
      "text/html": [
       "<style  type=\"text/css\" >\n",
       "#T_47ef361a_9753_11eb_bba8_33a628e946e1row0_col3{\n",
       "            background-color:  #e6cb39;\n",
       "            color:  #000000;\n",
       "        }#T_47ef361a_9753_11eb_bba8_33a628e946e1row0_col4{\n",
       "            background-color:  #e6a710;\n",
       "            color:  #000000;\n",
       "        }#T_47ef361a_9753_11eb_bba8_33a628e946e1row0_col5,#T_47ef361a_9753_11eb_bba8_33a628e946e1row3_col3{\n",
       "            background-color:  #f3f3c3;\n",
       "            color:  #000000;\n",
       "        }#T_47ef361a_9753_11eb_bba8_33a628e946e1row0_col6{\n",
       "            background-color:  #25257c;\n",
       "            color:  #f1f1f1;\n",
       "        }#T_47ef361a_9753_11eb_bba8_33a628e946e1row0_col7{\n",
       "            background-color:  #e6d34f;\n",
       "            color:  #000000;\n",
       "        }#T_47ef361a_9753_11eb_bba8_33a628e946e1row0_col8,#T_47ef361a_9753_11eb_bba8_33a628e946e1row0_col9,#T_47ef361a_9753_11eb_bba8_33a628e946e1row0_col11,#T_47ef361a_9753_11eb_bba8_33a628e946e1row2_col6,#T_47ef361a_9753_11eb_bba8_33a628e946e1row6_col3,#T_47ef361a_9753_11eb_bba8_33a628e946e1row6_col4,#T_47ef361a_9753_11eb_bba8_33a628e946e1row6_col5,#T_47ef361a_9753_11eb_bba8_33a628e946e1row6_col7,#T_47ef361a_9753_11eb_bba8_33a628e946e1row8_col10{\n",
       "            background-color:  #000000;\n",
       "            color:  #f1f1f1;\n",
       "        }#T_47ef361a_9753_11eb_bba8_33a628e946e1row0_col10{\n",
       "            background-color:  #ea7506;\n",
       "            color:  #000000;\n",
       "        }#T_47ef361a_9753_11eb_bba8_33a628e946e1row1_col3,#T_47ef361a_9753_11eb_bba8_33a628e946e1row1_col5,#T_47ef361a_9753_11eb_bba8_33a628e946e1row1_col7,#T_47ef361a_9753_11eb_bba8_33a628e946e1row1_col10,#T_47ef361a_9753_11eb_bba8_33a628e946e1row1_col11,#T_47ef361a_9753_11eb_bba8_33a628e946e1row5_col3,#T_47ef361a_9753_11eb_bba8_33a628e946e1row5_col4,#T_47ef361a_9753_11eb_bba8_33a628e946e1row5_col5,#T_47ef361a_9753_11eb_bba8_33a628e946e1row5_col6,#T_47ef361a_9753_11eb_bba8_33a628e946e1row5_col8,#T_47ef361a_9753_11eb_bba8_33a628e946e1row5_col9,#T_47ef361a_9753_11eb_bba8_33a628e946e1row5_col10,#T_47ef361a_9753_11eb_bba8_33a628e946e1row6_col6{\n",
       "            background-color:  #ffffff;\n",
       "            color:  #000000;\n",
       "        }#T_47ef361a_9753_11eb_bba8_33a628e946e1row1_col4{\n",
       "            background-color:  #fefefb;\n",
       "            color:  #000000;\n",
       "        }#T_47ef361a_9753_11eb_bba8_33a628e946e1row1_col6{\n",
       "            background-color:  #e6db62;\n",
       "            color:  #000000;\n",
       "        }#T_47ef361a_9753_11eb_bba8_33a628e946e1row1_col8,#T_47ef361a_9753_11eb_bba8_33a628e946e1row1_col9,#T_47ef361a_9753_11eb_bba8_33a628e946e1row9_col5{\n",
       "            background-color:  #fdfdf7;\n",
       "            color:  #000000;\n",
       "        }#T_47ef361a_9753_11eb_bba8_33a628e946e1row2_col3,#T_47ef361a_9753_11eb_bba8_33a628e946e1row4_col4,#T_47ef361a_9753_11eb_bba8_33a628e946e1row4_col7,#T_47ef361a_9753_11eb_bba8_33a628e946e1row9_col9{\n",
       "            background-color:  #e6e47c;\n",
       "            color:  #000000;\n",
       "        }#T_47ef361a_9753_11eb_bba8_33a628e946e1row2_col4{\n",
       "            background-color:  #e6e172;\n",
       "            color:  #000000;\n",
       "        }#T_47ef361a_9753_11eb_bba8_33a628e946e1row2_col5{\n",
       "            background-color:  #eaea97;\n",
       "            color:  #000000;\n",
       "        }#T_47ef361a_9753_11eb_bba8_33a628e946e1row2_col7,#T_47ef361a_9753_11eb_bba8_33a628e946e1row4_col3{\n",
       "            background-color:  #e6e57f;\n",
       "            color:  #000000;\n",
       "        }#T_47ef361a_9753_11eb_bba8_33a628e946e1row2_col8,#T_47ef361a_9753_11eb_bba8_33a628e946e1row6_col8{\n",
       "            background-color:  #762d9d;\n",
       "            color:  #f1f1f1;\n",
       "        }#T_47ef361a_9753_11eb_bba8_33a628e946e1row2_col9{\n",
       "            background-color:  #e13c41;\n",
       "            color:  #f1f1f1;\n",
       "        }#T_47ef361a_9753_11eb_bba8_33a628e946e1row2_col10,#T_47ef361a_9753_11eb_bba8_33a628e946e1row8_col8{\n",
       "            background-color:  #4926ba;\n",
       "            color:  #f1f1f1;\n",
       "        }#T_47ef361a_9753_11eb_bba8_33a628e946e1row2_col11{\n",
       "            background-color:  #4326b0;\n",
       "            color:  #f1f1f1;\n",
       "        }#T_47ef361a_9753_11eb_bba8_33a628e946e1row3_col4,#T_47ef361a_9753_11eb_bba8_33a628e946e1row3_col7,#T_47ef361a_9753_11eb_bba8_33a628e946e1row7_col5{\n",
       "            background-color:  #f2f2bf;\n",
       "            color:  #000000;\n",
       "        }#T_47ef361a_9753_11eb_bba8_33a628e946e1row3_col5{\n",
       "            background-color:  #f5f5cb;\n",
       "            color:  #000000;\n",
       "        }#T_47ef361a_9753_11eb_bba8_33a628e946e1row3_col6{\n",
       "            background-color:  #f8f8db;\n",
       "            color:  #000000;\n",
       "        }#T_47ef361a_9753_11eb_bba8_33a628e946e1row3_col8{\n",
       "            background-color:  #c4385a;\n",
       "            color:  #f1f1f1;\n",
       "        }#T_47ef361a_9753_11eb_bba8_33a628e946e1row3_col9{\n",
       "            background-color:  #f35d15;\n",
       "            color:  #000000;\n",
       "        }#T_47ef361a_9753_11eb_bba8_33a628e946e1row3_col10,#T_47ef361a_9753_11eb_bba8_33a628e946e1row7_col6{\n",
       "            background-color:  #782e9b;\n",
       "            color:  #f1f1f1;\n",
       "        }#T_47ef361a_9753_11eb_bba8_33a628e946e1row3_col11{\n",
       "            background-color:  #4226ae;\n",
       "            color:  #f1f1f1;\n",
       "        }#T_47ef361a_9753_11eb_bba8_33a628e946e1row4_col5,#T_47ef361a_9753_11eb_bba8_33a628e946e1row9_col8{\n",
       "            background-color:  #e6e683;\n",
       "            color:  #000000;\n",
       "        }#T_47ef361a_9753_11eb_bba8_33a628e946e1row4_col6{\n",
       "            background-color:  #4c26be;\n",
       "            color:  #f1f1f1;\n",
       "        }#T_47ef361a_9753_11eb_bba8_33a628e946e1row4_col8{\n",
       "            background-color:  #c1385d;\n",
       "            color:  #f1f1f1;\n",
       "        }#T_47ef361a_9753_11eb_bba8_33a628e946e1row4_col9{\n",
       "            background-color:  #ef690e;\n",
       "            color:  #000000;\n",
       "        }#T_47ef361a_9753_11eb_bba8_33a628e946e1row4_col10{\n",
       "            background-color:  #4826b8;\n",
       "            color:  #f1f1f1;\n",
       "        }#T_47ef361a_9753_11eb_bba8_33a628e946e1row4_col11{\n",
       "            background-color:  #7b2e99;\n",
       "            color:  #f1f1f1;\n",
       "        }#T_47ef361a_9753_11eb_bba8_33a628e946e1row5_col7{\n",
       "            background-color:  #e77d02;\n",
       "            color:  #000000;\n",
       "        }#T_47ef361a_9753_11eb_bba8_33a628e946e1row5_col11{\n",
       "            background-color:  #8e3189;\n",
       "            color:  #f1f1f1;\n",
       "        }#T_47ef361a_9753_11eb_bba8_33a628e946e1row6_col9{\n",
       "            background-color:  #fc4722;\n",
       "            color:  #000000;\n",
       "        }#T_47ef361a_9753_11eb_bba8_33a628e946e1row6_col10{\n",
       "            background-color:  #111138;\n",
       "            color:  #f1f1f1;\n",
       "        }#T_47ef361a_9753_11eb_bba8_33a628e946e1row6_col11{\n",
       "            background-color:  #4a26bc;\n",
       "            color:  #f1f1f1;\n",
       "        }#T_47ef361a_9753_11eb_bba8_33a628e946e1row7_col3{\n",
       "            background-color:  #e8e88b;\n",
       "            color:  #000000;\n",
       "        }#T_47ef361a_9753_11eb_bba8_33a628e946e1row7_col4{\n",
       "            background-color:  #e6df6f;\n",
       "            color:  #000000;\n",
       "        }#T_47ef361a_9753_11eb_bba8_33a628e946e1row7_col7{\n",
       "            background-color:  #ebeb9b;\n",
       "            color:  #000000;\n",
       "        }#T_47ef361a_9753_11eb_bba8_33a628e946e1row7_col8,#T_47ef361a_9753_11eb_bba8_33a628e946e1row7_col11{\n",
       "            background-color:  #f16311;\n",
       "            color:  #000000;\n",
       "        }#T_47ef361a_9753_11eb_bba8_33a628e946e1row7_col9{\n",
       "            background-color:  #e77b03;\n",
       "            color:  #000000;\n",
       "        }#T_47ef361a_9753_11eb_bba8_33a628e946e1row7_col10{\n",
       "            background-color:  #e69308;\n",
       "            color:  #000000;\n",
       "        }#T_47ef361a_9753_11eb_bba8_33a628e946e1row8_col3{\n",
       "            background-color:  #e6dc66;\n",
       "            color:  #000000;\n",
       "        }#T_47ef361a_9753_11eb_bba8_33a628e946e1row8_col4,#T_47ef361a_9753_11eb_bba8_33a628e946e1row8_col7{\n",
       "            background-color:  #e6d95f;\n",
       "            color:  #000000;\n",
       "        }#T_47ef361a_9753_11eb_bba8_33a628e946e1row8_col5,#T_47ef361a_9753_11eb_bba8_33a628e946e1row9_col7{\n",
       "            background-color:  #e6de6c;\n",
       "            color:  #000000;\n",
       "        }#T_47ef361a_9753_11eb_bba8_33a628e946e1row8_col6{\n",
       "            background-color:  #2b2688;\n",
       "            color:  #f1f1f1;\n",
       "        }#T_47ef361a_9753_11eb_bba8_33a628e946e1row8_col9{\n",
       "            background-color:  #cd3a52;\n",
       "            color:  #f1f1f1;\n",
       "        }#T_47ef361a_9753_11eb_bba8_33a628e946e1row8_col11{\n",
       "            background-color:  #1a1a58;\n",
       "            color:  #f1f1f1;\n",
       "        }#T_47ef361a_9753_11eb_bba8_33a628e946e1row9_col3{\n",
       "            background-color:  #f5f5cf;\n",
       "            color:  #000000;\n",
       "        }#T_47ef361a_9753_11eb_bba8_33a628e946e1row9_col4{\n",
       "            background-color:  #f1f1b7;\n",
       "            color:  #000000;\n",
       "        }#T_47ef361a_9753_11eb_bba8_33a628e946e1row9_col6{\n",
       "            background-color:  #191954;\n",
       "            color:  #f1f1f1;\n",
       "        }#T_47ef361a_9753_11eb_bba8_33a628e946e1row9_col10{\n",
       "            background-color:  #f9f9df;\n",
       "            color:  #000000;\n",
       "        }#T_47ef361a_9753_11eb_bba8_33a628e946e1row9_col11{\n",
       "            background-color:  #ef670f;\n",
       "            color:  #000000;\n",
       "        }</style><table id=\"T_47ef361a_9753_11eb_bba8_33a628e946e1\" ><thead>    <tr>        <th class=\"blank level0\" ></th>        <th class=\"col_heading level0 col0\" >country</th>        <th class=\"col_heading level0 col1\" >date</th>        <th class=\"col_heading level0 col2\" >vaccines</th>        <th class=\"col_heading level0 col3\" >total_vaccinations</th>        <th class=\"col_heading level0 col4\" >people_vaccinated</th>        <th class=\"col_heading level0 col5\" >people_fully_vaccinated</th>        <th class=\"col_heading level0 col6\" >daily_vaccinations_raw</th>        <th class=\"col_heading level0 col7\" >daily_vaccinations</th>        <th class=\"col_heading level0 col8\" >total_vaccinations_per_hundred</th>        <th class=\"col_heading level0 col9\" >people_vaccinated_per_hundred</th>        <th class=\"col_heading level0 col10\" >people_fully_vaccinated_per_hundred</th>        <th class=\"col_heading level0 col11\" >daily_vaccinations_per_million</th>    </tr></thead><tbody>\n",
       "                <tr>\n",
       "                        <th id=\"T_47ef361a_9753_11eb_bba8_33a628e946e1level0_row0\" class=\"row_heading level0 row0\" >3004</th>\n",
       "                        <td id=\"T_47ef361a_9753_11eb_bba8_33a628e946e1row0_col0\" class=\"data row0 col0\" >Finland</td>\n",
       "                        <td id=\"T_47ef361a_9753_11eb_bba8_33a628e946e1row0_col1\" class=\"data row0 col1\" >2021-03-24 00:00:00</td>\n",
       "                        <td id=\"T_47ef361a_9753_11eb_bba8_33a628e946e1row0_col2\" class=\"data row0 col2\" >Moderna, Oxford/AstraZeneca, Pfizer/BioNTech</td>\n",
       "                        <td id=\"T_47ef361a_9753_11eb_bba8_33a628e946e1row0_col3\" class=\"data row0 col3\" >847501.000000</td>\n",
       "                        <td id=\"T_47ef361a_9753_11eb_bba8_33a628e946e1row0_col4\" class=\"data row0 col4\" >759827.000000</td>\n",
       "                        <td id=\"T_47ef361a_9753_11eb_bba8_33a628e946e1row0_col5\" class=\"data row0 col5\" >87674.000000</td>\n",
       "                        <td id=\"T_47ef361a_9753_11eb_bba8_33a628e946e1row0_col6\" class=\"data row0 col6\" >17089.000000</td>\n",
       "                        <td id=\"T_47ef361a_9753_11eb_bba8_33a628e946e1row0_col7\" class=\"data row0 col7\" >17764.000000</td>\n",
       "                        <td id=\"T_47ef361a_9753_11eb_bba8_33a628e946e1row0_col8\" class=\"data row0 col8\" >15.300000</td>\n",
       "                        <td id=\"T_47ef361a_9753_11eb_bba8_33a628e946e1row0_col9\" class=\"data row0 col9\" >13.710000</td>\n",
       "                        <td id=\"T_47ef361a_9753_11eb_bba8_33a628e946e1row0_col10\" class=\"data row0 col10\" >1.580000</td>\n",
       "                        <td id=\"T_47ef361a_9753_11eb_bba8_33a628e946e1row0_col11\" class=\"data row0 col11\" >3206.000000</td>\n",
       "            </tr>\n",
       "            <tr>\n",
       "                        <th id=\"T_47ef361a_9753_11eb_bba8_33a628e946e1level0_row1\" class=\"row_heading level0 row1\" >448</th>\n",
       "                        <td id=\"T_47ef361a_9753_11eb_bba8_33a628e946e1row1_col0\" class=\"data row1 col0\" >Austria</td>\n",
       "                        <td id=\"T_47ef361a_9753_11eb_bba8_33a628e946e1row1_col1\" class=\"data row1 col1\" >2021-01-07 00:00:00</td>\n",
       "                        <td id=\"T_47ef361a_9753_11eb_bba8_33a628e946e1row1_col2\" class=\"data row1 col2\" >Moderna, Oxford/AstraZeneca, Pfizer/BioNTech</td>\n",
       "                        <td id=\"T_47ef361a_9753_11eb_bba8_33a628e946e1row1_col3\" class=\"data row1 col3\" >10868.000000</td>\n",
       "                        <td id=\"T_47ef361a_9753_11eb_bba8_33a628e946e1row1_col4\" class=\"data row1 col4\" >10868.000000</td>\n",
       "                        <td id=\"T_47ef361a_9753_11eb_bba8_33a628e946e1row1_col5\" class=\"data row1 col5\" >0.000000</td>\n",
       "                        <td id=\"T_47ef361a_9753_11eb_bba8_33a628e946e1row1_col6\" class=\"data row1 col6\" >3156.000000</td>\n",
       "                        <td id=\"T_47ef361a_9753_11eb_bba8_33a628e946e1row1_col7\" class=\"data row1 col7\" >841.000000</td>\n",
       "                        <td id=\"T_47ef361a_9753_11eb_bba8_33a628e946e1row1_col8\" class=\"data row1 col8\" >0.120000</td>\n",
       "                        <td id=\"T_47ef361a_9753_11eb_bba8_33a628e946e1row1_col9\" class=\"data row1 col9\" >0.120000</td>\n",
       "                        <td id=\"T_47ef361a_9753_11eb_bba8_33a628e946e1row1_col10\" class=\"data row1 col10\" >0.000000</td>\n",
       "                        <td id=\"T_47ef361a_9753_11eb_bba8_33a628e946e1row1_col11\" class=\"data row1 col11\" >93.000000</td>\n",
       "            </tr>\n",
       "            <tr>\n",
       "                        <th id=\"T_47ef361a_9753_11eb_bba8_33a628e946e1level0_row2\" class=\"row_heading level0 row2\" >4251</th>\n",
       "                        <td id=\"T_47ef361a_9753_11eb_bba8_33a628e946e1row2_col0\" class=\"data row2 col0\" >Ireland</td>\n",
       "                        <td id=\"T_47ef361a_9753_11eb_bba8_33a628e946e1row2_col1\" class=\"data row2 col1\" >2021-03-05 00:00:00</td>\n",
       "                        <td id=\"T_47ef361a_9753_11eb_bba8_33a628e946e1row2_col2\" class=\"data row2 col2\" >Moderna, Oxford/AstraZeneca, Pfizer/BioNTech</td>\n",
       "                        <td id=\"T_47ef361a_9753_11eb_bba8_33a628e946e1row2_col3\" class=\"data row2 col3\" >513322.000000</td>\n",
       "                        <td id=\"T_47ef361a_9753_11eb_bba8_33a628e946e1row2_col4\" class=\"data row2 col4\" >363601.000000</td>\n",
       "                        <td id=\"T_47ef361a_9753_11eb_bba8_33a628e946e1row2_col5\" class=\"data row2 col5\" >149721.000000</td>\n",
       "                        <td id=\"T_47ef361a_9753_11eb_bba8_33a628e946e1row2_col6\" class=\"data row2 col6\" >19449.000000</td>\n",
       "                        <td id=\"T_47ef361a_9753_11eb_bba8_33a628e946e1row2_col7\" class=\"data row2 col7\" >12465.000000</td>\n",
       "                        <td id=\"T_47ef361a_9753_11eb_bba8_33a628e946e1row2_col8\" class=\"data row2 col8\" >10.400000</td>\n",
       "                        <td id=\"T_47ef361a_9753_11eb_bba8_33a628e946e1row2_col9\" class=\"data row2 col9\" >7.360000</td>\n",
       "                        <td id=\"T_47ef361a_9753_11eb_bba8_33a628e946e1row2_col10\" class=\"data row2 col10\" >3.030000</td>\n",
       "                        <td id=\"T_47ef361a_9753_11eb_bba8_33a628e946e1row2_col11\" class=\"data row2 col11\" >2524.000000</td>\n",
       "            </tr>\n",
       "            <tr>\n",
       "                        <th id=\"T_47ef361a_9753_11eb_bba8_33a628e946e1level0_row3\" class=\"row_heading level0 row3\" >5197</th>\n",
       "                        <td id=\"T_47ef361a_9753_11eb_bba8_33a628e946e1row3_col0\" class=\"data row3 col0\" >Lithuania</td>\n",
       "                        <td id=\"T_47ef361a_9753_11eb_bba8_33a628e946e1row3_col1\" class=\"data row3 col1\" >2021-02-27 00:00:00</td>\n",
       "                        <td id=\"T_47ef361a_9753_11eb_bba8_33a628e946e1row3_col2\" class=\"data row3 col2\" >Moderna, Oxford/AstraZeneca, Pfizer/BioNTech</td>\n",
       "                        <td id=\"T_47ef361a_9753_11eb_bba8_33a628e946e1row3_col3\" class=\"data row3 col3\" >238547.000000</td>\n",
       "                        <td id=\"T_47ef361a_9753_11eb_bba8_33a628e946e1row3_col4\" class=\"data row3 col4\" >165224.000000</td>\n",
       "                        <td id=\"T_47ef361a_9753_11eb_bba8_33a628e946e1row3_col5\" class=\"data row3 col5\" >73323.000000</td>\n",
       "                        <td id=\"T_47ef361a_9753_11eb_bba8_33a628e946e1row3_col6\" class=\"data row3 col6\" >699.000000</td>\n",
       "                        <td id=\"T_47ef361a_9753_11eb_bba8_33a628e946e1row3_col7\" class=\"data row3 col7\" >6893.000000</td>\n",
       "                        <td id=\"T_47ef361a_9753_11eb_bba8_33a628e946e1row3_col8\" class=\"data row3 col8\" >8.760000</td>\n",
       "                        <td id=\"T_47ef361a_9753_11eb_bba8_33a628e946e1row3_col9\" class=\"data row3 col9\" >6.070000</td>\n",
       "                        <td id=\"T_47ef361a_9753_11eb_bba8_33a628e946e1row3_col10\" class=\"data row3 col10\" >2.690000</td>\n",
       "                        <td id=\"T_47ef361a_9753_11eb_bba8_33a628e946e1row3_col11\" class=\"data row3 col11\" >2532.000000</td>\n",
       "            </tr>\n",
       "            <tr>\n",
       "                        <th id=\"T_47ef361a_9753_11eb_bba8_33a628e946e1level0_row4\" class=\"row_heading level0 row4\" >2336</th>\n",
       "                        <td id=\"T_47ef361a_9753_11eb_bba8_33a628e946e1row4_col0\" class=\"data row4 col0\" >Denmark</td>\n",
       "                        <td id=\"T_47ef361a_9753_11eb_bba8_33a628e946e1row4_col1\" class=\"data row4 col1\" >2021-02-22 00:00:00</td>\n",
       "                        <td id=\"T_47ef361a_9753_11eb_bba8_33a628e946e1row4_col2\" class=\"data row4 col2\" >Moderna, Oxford/AstraZeneca, Pfizer/BioNTech</td>\n",
       "                        <td id=\"T_47ef361a_9753_11eb_bba8_33a628e946e1row4_col3\" class=\"data row4 col3\" >509289.000000</td>\n",
       "                        <td id=\"T_47ef361a_9753_11eb_bba8_33a628e946e1row4_col4\" class=\"data row4 col4\" >333164.000000</td>\n",
       "                        <td id=\"T_47ef361a_9753_11eb_bba8_33a628e946e1row4_col5\" class=\"data row4 col5\" >176125.000000</td>\n",
       "                        <td id=\"T_47ef361a_9753_11eb_bba8_33a628e946e1row4_col6\" class=\"data row4 col6\" >14615.000000</td>\n",
       "                        <td id=\"T_47ef361a_9753_11eb_bba8_33a628e946e1row4_col7\" class=\"data row4 col7\" >12720.000000</td>\n",
       "                        <td id=\"T_47ef361a_9753_11eb_bba8_33a628e946e1row4_col8\" class=\"data row4 col8\" >8.790000</td>\n",
       "                        <td id=\"T_47ef361a_9753_11eb_bba8_33a628e946e1row4_col9\" class=\"data row4 col9\" >5.750000</td>\n",
       "                        <td id=\"T_47ef361a_9753_11eb_bba8_33a628e946e1row4_col10\" class=\"data row4 col10\" >3.040000</td>\n",
       "                        <td id=\"T_47ef361a_9753_11eb_bba8_33a628e946e1row4_col11\" class=\"data row4 col11\" >2196.000000</td>\n",
       "            </tr>\n",
       "            <tr>\n",
       "                        <th id=\"T_47ef361a_9753_11eb_bba8_33a628e946e1level0_row5\" class=\"row_heading level0 row5\" >6154</th>\n",
       "                        <td id=\"T_47ef361a_9753_11eb_bba8_33a628e946e1row5_col0\" class=\"data row5 col0\" >Netherlands</td>\n",
       "                        <td id=\"T_47ef361a_9753_11eb_bba8_33a628e946e1row5_col1\" class=\"data row5 col1\" >2021-03-25 00:00:00</td>\n",
       "                        <td id=\"T_47ef361a_9753_11eb_bba8_33a628e946e1row5_col2\" class=\"data row5 col2\" >Moderna, Oxford/AstraZeneca, Pfizer/BioNTech</td>\n",
       "                        <td id=\"T_47ef361a_9753_11eb_bba8_33a628e946e1row5_col3\" class=\"data row5 col3\" >0.000000</td>\n",
       "                        <td id=\"T_47ef361a_9753_11eb_bba8_33a628e946e1row5_col4\" class=\"data row5 col4\" >0.000000</td>\n",
       "                        <td id=\"T_47ef361a_9753_11eb_bba8_33a628e946e1row5_col5\" class=\"data row5 col5\" >0.000000</td>\n",
       "                        <td id=\"T_47ef361a_9753_11eb_bba8_33a628e946e1row5_col6\" class=\"data row5 col6\" >0.000000</td>\n",
       "                        <td id=\"T_47ef361a_9753_11eb_bba8_33a628e946e1row5_col7\" class=\"data row5 col7\" >35777.000000</td>\n",
       "                        <td id=\"T_47ef361a_9753_11eb_bba8_33a628e946e1row5_col8\" class=\"data row5 col8\" >0.000000</td>\n",
       "                        <td id=\"T_47ef361a_9753_11eb_bba8_33a628e946e1row5_col9\" class=\"data row5 col9\" >0.000000</td>\n",
       "                        <td id=\"T_47ef361a_9753_11eb_bba8_33a628e946e1row5_col10\" class=\"data row5 col10\" >0.000000</td>\n",
       "                        <td id=\"T_47ef361a_9753_11eb_bba8_33a628e946e1row5_col11\" class=\"data row5 col11\" >2088.000000</td>\n",
       "            </tr>\n",
       "            <tr>\n",
       "                        <th id=\"T_47ef361a_9753_11eb_bba8_33a628e946e1level0_row6\" class=\"row_heading level0 row6\" >6976</th>\n",
       "                        <td id=\"T_47ef361a_9753_11eb_bba8_33a628e946e1row6_col0\" class=\"data row6 col0\" >Poland</td>\n",
       "                        <td id=\"T_47ef361a_9753_11eb_bba8_33a628e946e1row6_col1\" class=\"data row6 col1\" >2021-03-06 00:00:00</td>\n",
       "                        <td id=\"T_47ef361a_9753_11eb_bba8_33a628e946e1row6_col2\" class=\"data row6 col2\" >Moderna, Oxford/AstraZeneca, Pfizer/BioNTech</td>\n",
       "                        <td id=\"T_47ef361a_9753_11eb_bba8_33a628e946e1row6_col3\" class=\"data row6 col3\" >3951104.000000</td>\n",
       "                        <td id=\"T_47ef361a_9753_11eb_bba8_33a628e946e1row6_col4\" class=\"data row6 col4\" >2526389.000000</td>\n",
       "                        <td id=\"T_47ef361a_9753_11eb_bba8_33a628e946e1row6_col5\" class=\"data row6 col5\" >1424715.000000</td>\n",
       "                        <td id=\"T_47ef361a_9753_11eb_bba8_33a628e946e1row6_col6\" class=\"data row6 col6\" >0.000000</td>\n",
       "                        <td id=\"T_47ef361a_9753_11eb_bba8_33a628e946e1row6_col7\" class=\"data row6 col7\" >92574.000000</td>\n",
       "                        <td id=\"T_47ef361a_9753_11eb_bba8_33a628e946e1row6_col8\" class=\"data row6 col8\" >10.440000</td>\n",
       "                        <td id=\"T_47ef361a_9753_11eb_bba8_33a628e946e1row6_col9\" class=\"data row6 col9\" >6.680000</td>\n",
       "                        <td id=\"T_47ef361a_9753_11eb_bba8_33a628e946e1row6_col10\" class=\"data row6 col10\" >3.760000</td>\n",
       "                        <td id=\"T_47ef361a_9753_11eb_bba8_33a628e946e1row6_col11\" class=\"data row6 col11\" >2446.000000</td>\n",
       "            </tr>\n",
       "            <tr>\n",
       "                        <th id=\"T_47ef361a_9753_11eb_bba8_33a628e946e1level0_row7\" class=\"row_heading level0 row7\" >1367</th>\n",
       "                        <td id=\"T_47ef361a_9753_11eb_bba8_33a628e946e1row7_col0\" class=\"data row7 col0\" >Bulgaria</td>\n",
       "                        <td id=\"T_47ef361a_9753_11eb_bba8_33a628e946e1row7_col1\" class=\"data row7 col1\" >2021-03-30 00:00:00</td>\n",
       "                        <td id=\"T_47ef361a_9753_11eb_bba8_33a628e946e1row7_col2\" class=\"data row7 col2\" >Moderna, Oxford/AstraZeneca, Pfizer/BioNTech</td>\n",
       "                        <td id=\"T_47ef361a_9753_11eb_bba8_33a628e946e1row7_col3\" class=\"data row7 col3\" >458731.000000</td>\n",
       "                        <td id=\"T_47ef361a_9753_11eb_bba8_33a628e946e1row7_col4\" class=\"data row7 col4\" >365650.000000</td>\n",
       "                        <td id=\"T_47ef361a_9753_11eb_bba8_33a628e946e1row7_col5\" class=\"data row7 col5\" >93081.000000</td>\n",
       "                        <td id=\"T_47ef361a_9753_11eb_bba8_33a628e946e1row7_col6\" class=\"data row7 col6\" >13184.000000</td>\n",
       "                        <td id=\"T_47ef361a_9753_11eb_bba8_33a628e946e1row7_col7\" class=\"data row7 col7\" >9989.000000</td>\n",
       "                        <td id=\"T_47ef361a_9753_11eb_bba8_33a628e946e1row7_col8\" class=\"data row7 col8\" >6.600000</td>\n",
       "                        <td id=\"T_47ef361a_9753_11eb_bba8_33a628e946e1row7_col9\" class=\"data row7 col9\" >5.260000</td>\n",
       "                        <td id=\"T_47ef361a_9753_11eb_bba8_33a628e946e1row7_col10\" class=\"data row7 col10\" >1.340000</td>\n",
       "                        <td id=\"T_47ef361a_9753_11eb_bba8_33a628e946e1row7_col11\" class=\"data row7 col11\" >1438.000000</td>\n",
       "            </tr>\n",
       "            <tr>\n",
       "                        <th id=\"T_47ef361a_9753_11eb_bba8_33a628e946e1level0_row8\" class=\"row_heading level0 row8\" >6530</th>\n",
       "                        <td id=\"T_47ef361a_9753_11eb_bba8_33a628e946e1row8_col0\" class=\"data row8 col0\" >Norway</td>\n",
       "                        <td id=\"T_47ef361a_9753_11eb_bba8_33a628e946e1row8_col1\" class=\"data row8 col1\" >2021-03-09 00:00:00</td>\n",
       "                        <td id=\"T_47ef361a_9753_11eb_bba8_33a628e946e1row8_col2\" class=\"data row8 col2\" >Moderna, Oxford/AstraZeneca, Pfizer/BioNTech</td>\n",
       "                        <td id=\"T_47ef361a_9753_11eb_bba8_33a628e946e1row8_col3\" class=\"data row8 col3\" >631492.000000</td>\n",
       "                        <td id=\"T_47ef361a_9753_11eb_bba8_33a628e946e1row8_col4\" class=\"data row8 col4\" >415471.000000</td>\n",
       "                        <td id=\"T_47ef361a_9753_11eb_bba8_33a628e946e1row8_col5\" class=\"data row8 col5\" >216021.000000</td>\n",
       "                        <td id=\"T_47ef361a_9753_11eb_bba8_33a628e946e1row8_col6\" class=\"data row8 col6\" >16710.000000</td>\n",
       "                        <td id=\"T_47ef361a_9753_11eb_bba8_33a628e946e1row8_col7\" class=\"data row8 col7\" >15916.000000</td>\n",
       "                        <td id=\"T_47ef361a_9753_11eb_bba8_33a628e946e1row8_col8\" class=\"data row8 col8\" >11.650000</td>\n",
       "                        <td id=\"T_47ef361a_9753_11eb_bba8_33a628e946e1row8_col9\" class=\"data row8 col9\" >7.660000</td>\n",
       "                        <td id=\"T_47ef361a_9753_11eb_bba8_33a628e946e1row8_col10\" class=\"data row8 col10\" >3.980000</td>\n",
       "                        <td id=\"T_47ef361a_9753_11eb_bba8_33a628e946e1row8_col11\" class=\"data row8 col11\" >2936.000000</td>\n",
       "            </tr>\n",
       "            <tr>\n",
       "                        <th id=\"T_47ef361a_9753_11eb_bba8_33a628e946e1level0_row9\" class=\"row_heading level0 row9\" >3395</th>\n",
       "                        <td id=\"T_47ef361a_9753_11eb_bba8_33a628e946e1row9_col0\" class=\"data row9 col0\" >Greece</td>\n",
       "                        <td id=\"T_47ef361a_9753_11eb_bba8_33a628e946e1row9_col1\" class=\"data row9 col1\" >2021-01-26 00:00:00</td>\n",
       "                        <td id=\"T_47ef361a_9753_11eb_bba8_33a628e946e1row9_col2\" class=\"data row9 col2\" >Moderna, Oxford/AstraZeneca, Pfizer/BioNTech</td>\n",
       "                        <td id=\"T_47ef361a_9753_11eb_bba8_33a628e946e1row9_col3\" class=\"data row9 col3\" >197755.000000</td>\n",
       "                        <td id=\"T_47ef361a_9753_11eb_bba8_33a628e946e1row9_col4\" class=\"data row9 col4\" >184610.000000</td>\n",
       "                        <td id=\"T_47ef361a_9753_11eb_bba8_33a628e946e1row9_col5\" class=\"data row9 col5\" >13145.000000</td>\n",
       "                        <td id=\"T_47ef361a_9753_11eb_bba8_33a628e946e1row9_col6\" class=\"data row9 col6\" >17804.000000</td>\n",
       "                        <td id=\"T_47ef361a_9753_11eb_bba8_33a628e946e1row9_col7\" class=\"data row9 col7\" >14757.000000</td>\n",
       "                        <td id=\"T_47ef361a_9753_11eb_bba8_33a628e946e1row9_col8\" class=\"data row9 col8\" >1.900000</td>\n",
       "                        <td id=\"T_47ef361a_9753_11eb_bba8_33a628e946e1row9_col9\" class=\"data row9 col9\" >1.770000</td>\n",
       "                        <td id=\"T_47ef361a_9753_11eb_bba8_33a628e946e1row9_col10\" class=\"data row9 col10\" >0.130000</td>\n",
       "                        <td id=\"T_47ef361a_9753_11eb_bba8_33a628e946e1row9_col11\" class=\"data row9 col11\" >1416.000000</td>\n",
       "            </tr>\n",
       "    </tbody></table>"
      ],
      "text/plain": [
       "<pandas.io.formats.style.Styler at 0x7fe71efc9d90>"
      ]
     },
     "execution_count": 17,
     "metadata": {},
     "output_type": "execute_result"
    }
   ],
   "source": [
    "moderna_oxford_astraZeneca_pfizer_bioNTech.sample(10).style.background_gradient(cmap=\"CMRmap_r\")"
   ]
  },
  {
   "cell_type": "markdown",
   "metadata": {},
   "source": [
    "#### Oxford/AstraZeneca, Sputnik V"
   ]
  },
  {
   "cell_type": "code",
   "execution_count": 18,
   "metadata": {},
   "outputs": [],
   "source": [
    "oxford_astraZeneca_sputnikV = country_vaccinations_df[country_vaccinations_df[\"vaccines\"]==\"Oxford/AstraZeneca, Sputnik V\"][select_column].sort_values(by=\"total_vaccinations\")"
   ]
  },
  {
   "cell_type": "code",
   "execution_count": 19,
   "metadata": {},
   "outputs": [
    {
     "ename": "ValueError",
     "evalue": "a must be greater than 0 unless no samples are taken",
     "output_type": "error",
     "traceback": [
      "\u001b[0;31m---------------------------------------------------------------------------\u001b[0m",
      "\u001b[0;31mValueError\u001b[0m                                Traceback (most recent call last)",
      "\u001b[0;32m<ipython-input-19-c722c047caf8>\u001b[0m in \u001b[0;36m<module>\u001b[0;34m\u001b[0m\n\u001b[0;32m----> 1\u001b[0;31m \u001b[0moxford_astraZeneca_sputnikV\u001b[0m\u001b[0;34m.\u001b[0m\u001b[0msample\u001b[0m\u001b[0;34m(\u001b[0m\u001b[0;36m10\u001b[0m\u001b[0;34m)\u001b[0m\u001b[0;34m.\u001b[0m\u001b[0mstyle\u001b[0m\u001b[0;34m.\u001b[0m\u001b[0mbackground_gradient\u001b[0m\u001b[0;34m(\u001b[0m\u001b[0mcmap\u001b[0m\u001b[0;34m=\u001b[0m\u001b[0;34m\"CMRmap_r\"\u001b[0m\u001b[0;34m)\u001b[0m\u001b[0;34m\u001b[0m\u001b[0;34m\u001b[0m\u001b[0m\n\u001b[0m",
      "\u001b[0;32m~/anaconda3/lib/python3.8/site-packages/pandas/core/generic.py\u001b[0m in \u001b[0;36msample\u001b[0;34m(self, n, frac, replace, weights, random_state, axis)\u001b[0m\n\u001b[1;32m   4991\u001b[0m             )\n\u001b[1;32m   4992\u001b[0m \u001b[0;34m\u001b[0m\u001b[0m\n\u001b[0;32m-> 4993\u001b[0;31m         \u001b[0mlocs\u001b[0m \u001b[0;34m=\u001b[0m \u001b[0mrs\u001b[0m\u001b[0;34m.\u001b[0m\u001b[0mchoice\u001b[0m\u001b[0;34m(\u001b[0m\u001b[0maxis_length\u001b[0m\u001b[0;34m,\u001b[0m \u001b[0msize\u001b[0m\u001b[0;34m=\u001b[0m\u001b[0mn\u001b[0m\u001b[0;34m,\u001b[0m \u001b[0mreplace\u001b[0m\u001b[0;34m=\u001b[0m\u001b[0mreplace\u001b[0m\u001b[0;34m,\u001b[0m \u001b[0mp\u001b[0m\u001b[0;34m=\u001b[0m\u001b[0mweights\u001b[0m\u001b[0;34m)\u001b[0m\u001b[0;34m\u001b[0m\u001b[0;34m\u001b[0m\u001b[0m\n\u001b[0m\u001b[1;32m   4994\u001b[0m         \u001b[0;32mreturn\u001b[0m \u001b[0mself\u001b[0m\u001b[0;34m.\u001b[0m\u001b[0mtake\u001b[0m\u001b[0;34m(\u001b[0m\u001b[0mlocs\u001b[0m\u001b[0;34m,\u001b[0m \u001b[0maxis\u001b[0m\u001b[0;34m=\u001b[0m\u001b[0maxis\u001b[0m\u001b[0;34m)\u001b[0m\u001b[0;34m\u001b[0m\u001b[0;34m\u001b[0m\u001b[0m\n\u001b[1;32m   4995\u001b[0m \u001b[0;34m\u001b[0m\u001b[0m\n",
      "\u001b[0;32mmtrand.pyx\u001b[0m in \u001b[0;36mnumpy.random.mtrand.RandomState.choice\u001b[0;34m()\u001b[0m\n",
      "\u001b[0;31mValueError\u001b[0m: a must be greater than 0 unless no samples are taken"
     ]
    }
   ],
   "source": [
    "oxford_astraZeneca_sputnikV.sample(10).style.background_gradient(cmap=\"CMRmap_r\")"
   ]
  },
  {
   "cell_type": "markdown",
   "metadata": {},
   "source": [
    "#### Pfizer/BioNTech, Sinopharm/Beijing, Sputnik V"
   ]
  },
  {
   "cell_type": "code",
   "execution_count": null,
   "metadata": {},
   "outputs": [],
   "source": [
    "pfizer_bioNTech_sinopharm_beijing_SputnikV = country_vaccinations_df[country_vaccinations_df[\"vaccines\"]==\"Pfizer/BioNTech, Sinopharm/Beijing, Sputnik V\"][select_column].sort_values(by=\"total_vaccinations\")"
   ]
  },
  {
   "cell_type": "code",
   "execution_count": null,
   "metadata": {},
   "outputs": [],
   "source": [
    "pfizer_bioNTech_sinopharm_beijing_SputnikV.sample(10).style.background_gradient(cmap=\"CMRmap_r\")"
   ]
  },
  {
   "cell_type": "markdown",
   "metadata": {},
   "source": [
    "#### Oxford/AstraZeneca, Sinovac"
   ]
  },
  {
   "cell_type": "code",
   "execution_count": null,
   "metadata": {},
   "outputs": [],
   "source": [
    "oxford_astraZeneca_sinovac = country_vaccinations_df[country_vaccinations_df[\"vaccines\"]==\"Oxford/AstraZeneca, Sinovac\"][select_column].sort_values(by=\"total_vaccinations\")"
   ]
  },
  {
   "cell_type": "code",
   "execution_count": null,
   "metadata": {},
   "outputs": [],
   "source": [
    "oxford_astraZeneca_sinovac.sample(10).style.background_gradient(cmap=\"CMRmap_r\")"
   ]
  },
  {
   "cell_type": "markdown",
   "metadata": {},
   "source": [
    "#### Sinopharm/Beijing"
   ]
  },
  {
   "cell_type": "code",
   "execution_count": null,
   "metadata": {},
   "outputs": [],
   "source": [
    "sinopharm_beijing = country_vaccinations_df[country_vaccinations_df[\"vaccines\"]==\"Sinopharm/Beijing\"][select_column].sort_values(by=\"total_vaccinations\")"
   ]
  },
  {
   "cell_type": "code",
   "execution_count": null,
   "metadata": {},
   "outputs": [],
   "source": [
    "sinopharm_beijing.sample(10).style.background_gradient(cmap=\"CMRmap_r\")"
   ]
  },
  {
   "cell_type": "markdown",
   "metadata": {},
   "source": [
    "#### Moderna, Pfizer/BioNTech"
   ]
  },
  {
   "cell_type": "code",
   "execution_count": null,
   "metadata": {},
   "outputs": [],
   "source": [
    "moderna_pfizer_bioNTech = country_vaccinations_df[country_vaccinations_df[\"vaccines\"]==\"Moderna, Pfizer/BioNTech\"][select_column].sort_values(by=\"total_vaccinations\")"
   ]
  },
  {
   "cell_type": "code",
   "execution_count": null,
   "metadata": {},
   "outputs": [],
   "source": [
    "moderna_pfizer_bioNTech.sample(10).style.background_gradient(cmap=\"CMRmap_r\")"
   ]
  },
  {
   "cell_type": "markdown",
   "metadata": {},
   "source": [
    "#### Pfizer/BioNTech, Sinovac"
   ]
  },
  {
   "cell_type": "code",
   "execution_count": null,
   "metadata": {},
   "outputs": [],
   "source": [
    "pfizer_bioNTech_sinovac = country_vaccinations_df[country_vaccinations_df[\"vaccines\"]==\"Pfizer/BioNTech, Sinovac\"][select_column].sort_values(by=\"total_vaccinations\")"
   ]
  },
  {
   "cell_type": "code",
   "execution_count": null,
   "metadata": {},
   "outputs": [],
   "source": [
    "pfizer_bioNTech_sinovac.sample(10).style.background_gradient(cmap=\"CMRmap_r\")"
   ]
  },
  {
   "cell_type": "markdown",
   "metadata": {},
   "source": [
    "#### Sinopharm/Beijing, Sinopharm/Wuhan, Sinovac"
   ]
  },
  {
   "cell_type": "code",
   "execution_count": null,
   "metadata": {},
   "outputs": [],
   "source": [
    "sinopharm_beijing_sinopharm_wuhan_sinovac = country_vaccinations_df[country_vaccinations_df[\"vaccines\"]==\"Pfizer/BioNTech, Sinovac\"][select_column].sort_values(by=\"total_vaccinations\")"
   ]
  },
  {
   "cell_type": "code",
   "execution_count": null,
   "metadata": {},
   "outputs": [],
   "source": [
    "sinopharm_beijing_sinopharm_wuhan_sinovac.sample(10).style.background_gradient(cmap=\"CMRmap_r\")"
   ]
  },
  {
   "cell_type": "markdown",
   "metadata": {},
   "source": [
    "#### Oxford/AstraZeneca, Pfizer/BioNTech"
   ]
  },
  {
   "cell_type": "code",
   "execution_count": null,
   "metadata": {},
   "outputs": [],
   "source": [
    "oxford_astraZeneca_pfizer_bioNTech = country_vaccinations_df[country_vaccinations_df[\"vaccines\"]==\"Oxford/AstraZeneca, Pfizer/BioNTech\"][select_column].sort_values(by=\"total_vaccinations\")"
   ]
  },
  {
   "cell_type": "code",
   "execution_count": null,
   "metadata": {},
   "outputs": [],
   "source": [
    "oxford_astraZeneca_pfizer_bioNTech.sample(10).style.background_gradient(cmap=\"CMRmap_r\")"
   ]
  },
  {
   "cell_type": "markdown",
   "metadata": {},
   "source": [
    "#### Moderna, Oxford/AstraZeneca, Pfizer/BioNTech, Sinopharm/Beijing, Sputnik V"
   ]
  },
  {
   "cell_type": "code",
   "execution_count": null,
   "metadata": {},
   "outputs": [],
   "source": [
    "moderna_oxford_astraZeneca_pfizer_bioNTech_sinopharm_beijing_sputnikV = country_vaccinations_df[country_vaccinations_df[\"vaccines\"]==\"Moderna, Oxford/AstraZeneca, Pfizer/BioNTech, Sinopharm/Beijing, Sputnik V\"][select_column].sort_values(by=\"total_vaccinations\")"
   ]
  },
  {
   "cell_type": "code",
   "execution_count": null,
   "metadata": {},
   "outputs": [],
   "source": [
    "moderna_oxford_astraZeneca_pfizer_bioNTech_sinopharm_beijing_sputnikV.sample(10).style.background_gradient(cmap=\"CMRmap_r\")"
   ]
  },
  {
   "cell_type": "markdown",
   "metadata": {},
   "source": [
    "#### Covaxin, Oxford/AstraZeneca"
   ]
  },
  {
   "cell_type": "code",
   "execution_count": null,
   "metadata": {},
   "outputs": [],
   "source": [
    "covaxin_oxford_astraZeneca = country_vaccinations_df[country_vaccinations_df[\"vaccines\"]==\"Covaxin, Oxford/AstraZeneca\"][select_column].sort_values(by=\"total_vaccinations\")"
   ]
  },
  {
   "cell_type": "code",
   "execution_count": null,
   "metadata": {},
   "outputs": [],
   "source": [
    "covaxin_oxford_astraZeneca.sample(10).style.background_gradient(cmap=\"CMRmap_r\")"
   ]
  },
  {
   "cell_type": "markdown",
   "metadata": {},
   "source": [
    "#### Sinovac"
   ]
  },
  {
   "cell_type": "code",
   "execution_count": null,
   "metadata": {},
   "outputs": [],
   "source": [
    "sinovac_vaccine = country_vaccinations_df[country_vaccinations_df[\"vaccines\"]==\"Sinovac\"][select_column].sort_values(by=\"total_vaccinations\")"
   ]
  },
  {
   "cell_type": "code",
   "execution_count": null,
   "metadata": {},
   "outputs": [],
   "source": [
    "sinovac_vaccine.sample(10).style.background_gradient(cmap=\"CMRmap_r\")"
   ]
  },
  {
   "cell_type": "markdown",
   "metadata": {},
   "source": [
    "#### Oxford/AstraZeneca, Pfizer/BioNTech, Sputnik V"
   ]
  },
  {
   "cell_type": "code",
   "execution_count": null,
   "metadata": {},
   "outputs": [],
   "source": [
    "oxford_astraZeneca_pfizer_bioNTech_sputnikV = country_vaccinations_df[country_vaccinations_df[\"vaccines\"]==\"Oxford/AstraZeneca, Pfizer/BioNTech, Sputnik V\"][select_column].sort_values(by=\"total_vaccinations\")"
   ]
  },
  {
   "cell_type": "code",
   "execution_count": null,
   "metadata": {},
   "outputs": [],
   "source": [
    "oxford_astraZeneca_pfizer_bioNTech_sputnikV.sample(10).style.background_gradient(cmap=\"CMRmap_r\")"
   ]
  },
  {
   "cell_type": "markdown",
   "metadata": {},
   "source": [
    "#### Oxford/AstraZeneca, Sinopharm/Beijing"
   ]
  },
  {
   "cell_type": "code",
   "execution_count": null,
   "metadata": {},
   "outputs": [],
   "source": [
    "oxford_astraZeneca_sinopharm_beijing = country_vaccinations_df[country_vaccinations_df[\"vaccines\"]==\"Oxford/AstraZeneca, Pfizer/BioNTech, Sputnik V\"][select_column].sort_values(by=\"total_vaccinations\")"
   ]
  },
  {
   "cell_type": "code",
   "execution_count": null,
   "metadata": {},
   "outputs": [],
   "source": [
    "oxford_astraZeneca_sinopharm_beijing.sample(10).style.background_gradient(cmap=\"CMRmap_r\")"
   ]
  },
  {
   "cell_type": "markdown",
   "metadata": {},
   "source": [
    "#### Oxford/AstraZeneca, Sinopharm/Beijing, Sputnik V"
   ]
  },
  {
   "cell_type": "code",
   "execution_count": null,
   "metadata": {},
   "outputs": [],
   "source": [
    "oxford_astraZeneca_sinopharm_beijing_sputnikV = country_vaccinations_df[country_vaccinations_df[\"vaccines\"]==\"Oxford/AstraZeneca, Pfizer/BioNTech, Sputnik V\"][select_column].sort_values(by=\"total_vaccinations\")"
   ]
  },
  {
   "cell_type": "code",
   "execution_count": null,
   "metadata": {},
   "outputs": [],
   "source": [
    "oxford_astraZeneca_sinopharm_beijing_sputnikV.sample(10).style.background_gradient(cmap=\"CMRmap_r\")"
   ]
  },
  {
   "cell_type": "markdown",
   "metadata": {},
   "source": [
    "#### Johnson&Johnson"
   ]
  },
  {
   "cell_type": "code",
   "execution_count": null,
   "metadata": {},
   "outputs": [],
   "source": [
    "johnson_johnson_vaccine = country_vaccinations_df[country_vaccinations_df[\"vaccines\"]==\"Johnson&Johnson\"][select_column].sort_values(by=\"total_vaccinations\")"
   ]
  },
  {
   "cell_type": "code",
   "execution_count": null,
   "metadata": {},
   "outputs": [],
   "source": [
    "johnson_johnson_vaccine.sample(10).style.background_gradient(cmap=\"CMRmap_r\")"
   ]
  },
  {
   "cell_type": "markdown",
   "metadata": {},
   "source": [
    "#### Oxford/AstraZeneca, Pfizer/BioNTech, Sinopharm/Beijing, Sinopharm/Wuhan, Sputnik V"
   ]
  },
  {
   "cell_type": "code",
   "execution_count": null,
   "metadata": {},
   "outputs": [],
   "source": [
    "country_vaccinations_df[country_vaccinations_df[\"vaccines\"]==\"Oxford/AstraZeneca, Pfizer/BioNTech, Sinopharm/Beijing, Sinopharm/Wuhan, Sputnik V\"][select_column].sort_values(by=\"total_vaccinations\").sample(10).style.background_gradient(cmap=\"CMRmap_r\")"
   ]
  },
  {
   "cell_type": "markdown",
   "metadata": {},
   "source": [
    "## What country is vaccinated more people?"
   ]
  },
  {
   "cell_type": "code",
   "execution_count": null,
   "metadata": {},
   "outputs": [],
   "source": [
    "top_country_vaccinated = country_vaccinations_df.groupby('country')['total_vaccinations'].max()"
   ]
  },
  {
   "cell_type": "code",
   "execution_count": null,
   "metadata": {},
   "outputs": [],
   "source": [
    "top_country_vaccinated = top_country_vaccinated.sort_values(ascending= False)"
   ]
  },
  {
   "cell_type": "code",
   "execution_count": null,
   "metadata": {},
   "outputs": [],
   "source": [
    "plt.figure(figsize=(12,20))\n",
    "plt.title('Total Immunation in Countries')\n",
    "sns.barplot(y=top_country_vaccinated.index, x=top_country_vaccinated);"
   ]
  },
  {
   "cell_type": "markdown",
   "metadata": {},
   "source": [
    "#### Inspecting time series and rolling mean:"
   ]
  },
  {
   "cell_type": "code",
   "execution_count": null,
   "metadata": {},
   "outputs": [],
   "source": [
    "crossing1 = country_vaccinations_df[['date', 'total_vaccinations']].groupby('date').sum()"
   ]
  },
  {
   "cell_type": "code",
   "execution_count": null,
   "metadata": {},
   "outputs": [],
   "source": [
    "tseries = country_vaccinations_df.groupby(['date'])['total_vaccinations'].agg(\n",
    "    ['sum']).reset_index().rename(columns={'sum': 'total_vaccinations'})\n",
    "tseries = tseries.set_index('date')"
   ]
  },
  {
   "cell_type": "code",
   "execution_count": null,
   "metadata": {},
   "outputs": [],
   "source": [
    "fig = plt.subplots(figsize=(30, 15))\n",
    "\n",
    "g = sns.lineplot(x=tseries.index, y='total_vaccinations',\n",
    "                 data=tseries, label=\"Actual Time Series\")\n",
    "\n",
    "rmean = crossing1.rolling(12, win_type='triang').mean()\n",
    "\n",
    "g = sns.lineplot(x=rmean.index, y='total_vaccinations',\n",
    "                 data=rmean, label=\"Rolling Mean 12 Months\")\n",
    "\n",
    "plt.legend(fontsize='xx-large')\n",
    "plt.show()"
   ]
  },
  {
   "cell_type": "markdown",
   "metadata": {},
   "source": [
    "## What country is vaccinated a larger percent from its population?\n"
   ]
  },
  {
   "cell_type": "markdown",
   "metadata": {},
   "source": [
    "<p><b>Total vaccinations per hundred</b> - ratio (in percent) between vaccination number and total population up to the date in the country</p>"
   ]
  },
  {
   "cell_type": "code",
   "execution_count": null,
   "metadata": {},
   "outputs": [],
   "source": [
    "total_per_hundred = country_vaccinations_df.sort_values(by='total_vaccinations_per_hundred', ascending=False)[:7000]"
   ]
  },
  {
   "cell_type": "code",
   "execution_count": null,
   "metadata": {},
   "outputs": [],
   "source": [
    "figure = plt.figure(figsize=(12,20))\n",
    "sns.barplot(y=total_per_hundred.country, x=total_per_hundred.total_vaccinations_per_hundred)\n",
    "plt.xticks()\n",
    "plt.xlim(xmin=0.8)\n",
    "plt.xlabel('total_vaccinations_per_hundred')\n",
    "plt.ylabel('COUNTRY')\n",
    "plt.title('Countplot of country by total_vaccinations_per_hundred')\n",
    "plt.show()"
   ]
  },
  {
   "cell_type": "markdown",
   "metadata": {},
   "source": [
    "<p><b>Total number of people vaccinated per hundred</b> - ratio (in percent) between population immunized and total population up to the date in the country</p>"
   ]
  },
  {
   "cell_type": "code",
   "execution_count": null,
   "metadata": {},
   "outputs": [],
   "source": [
    "total_people_vaccinated_per_hundred = country_vaccinations_df.sort_values(by='people_vaccinated_per_hundred', ascending=False)[:7000]"
   ]
  },
  {
   "cell_type": "code",
   "execution_count": null,
   "metadata": {},
   "outputs": [],
   "source": [
    "figure = plt.figure(figsize=(12,20))\n",
    "sns.barplot(y=total_people_vaccinated_per_hundred.country, x=total_people_vaccinated_per_hundred.people_vaccinated_per_hundred)\n",
    "plt.xticks()\n",
    "plt.xlim(xmin=0.8)\n",
    "plt.xlabel('people_vaccinated_per_hundred')\n",
    "plt.ylabel('COUNTRY')\n",
    "plt.title('Countplot of country by people_vaccinated_per_hundred')\n",
    "plt.show()"
   ]
  },
  {
   "cell_type": "code",
   "execution_count": null,
   "metadata": {},
   "outputs": [],
   "source": []
  }
 ],
 "metadata": {
  "kernelspec": {
   "display_name": "Python 3",
   "language": "python",
   "name": "python3"
  },
  "language_info": {
   "codemirror_mode": {
    "name": "ipython",
    "version": 3
   },
   "file_extension": ".py",
   "mimetype": "text/x-python",
   "name": "python",
   "nbconvert_exporter": "python",
   "pygments_lexer": "ipython3",
   "version": "3.8.5"
  }
 },
 "nbformat": 4,
 "nbformat_minor": 4
}
